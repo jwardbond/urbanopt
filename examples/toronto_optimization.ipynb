{
 "cells": [
  {
   "cell_type": "markdown",
   "id": "8a0ad721-c640-4daa-b679-2b733f309078",
   "metadata": {},
   "source": [
    "# Toronto Optimization\n",
    "\n",
    "In this notebook, I optimize constructed housing in the city of Toronto under a variety of conditions: \n",
    "- in the \"scenarios\" section, I focus on demonstrating the utility of different constraint\n",
    "- in the \"MOO\" section, I do multi-objective optimization with different objective functions"
   ]
  },
  {
   "cell_type": "markdown",
   "id": "3b68acfc-167b-4f45-b010-1c520c220bf1",
   "metadata": {},
   "source": [
    "# Setup"
   ]
  },
  {
   "cell_type": "code",
   "execution_count": 1,
   "id": "4b831c6c-d9aa-420a-b0b9-adf90d795a63",
   "metadata": {},
   "outputs": [],
   "source": [
    "import sys\n",
    "import json\n",
    "import math\n",
    "import pickle\n",
    "from pathlib import Path\n",
    "sys.path.append(\"../../../\")\n",
    "\n",
    "import numpy as np\n",
    "import pandas as pd\n",
    "import geopandas as gpd\n",
    "import time\n",
    "from shapely import Point\n",
    "\n",
    "from urbanopt import PathwayOptimizer"
   ]
  },
  {
   "cell_type": "code",
   "execution_count": 2,
   "id": "e01f57ad-db2e-4a0b-96ca-7269b78dff76",
   "metadata": {},
   "outputs": [],
   "source": [
    "import lonboard\n",
    "from lonboard import Map, ScatterplotLayer, PolygonLayer, viz\n",
    "from lonboard.colormap import apply_categorical_cmap, apply_continuous_cmap\n",
    "# from palettable.tableau import Tableau_10 as palette\n",
    "from palettable.cartocolors.qualitative import Bold_5 as palette\n",
    "from palettable.cmocean.sequential import Amp_18\n",
    "\n",
    "from matplotlib import pyplot as plt"
   ]
  },
  {
   "cell_type": "code",
   "execution_count": 3,
   "id": "f22e773e-4ab9-4a1d-bb81-df8b2e15e184",
   "metadata": {},
   "outputs": [],
   "source": [
    "working_dir = Path.cwd()\n",
    "\n",
    "results_dir = working_dir / \"results\"\n",
    "results_dir.mkdir(parents=True, exist_ok=True)\n",
    "\n",
    "pathways = gpd.read_parquet(working_dir/\"input_data\"/f\"{working_dir.stem}_pathways.parquet\")\n",
    "census_data_2021 = gpd.read_parquet(working_dir/\"input_data\"/f\"{working_dir.stem}_2021_pruned_census.parquet\")\n",
    "census_data_2016 = gpd.read_parquet(working_dir/\"input_data\"/f\"{working_dir.stem}_2016_pruned_census.parquet\")\n",
    "\n",
    "proj_crs = \"EPSG:3347\""
   ]
  },
  {
   "cell_type": "markdown",
   "id": "ec241222-95fd-4c23-8294-28d10832bfb8",
   "metadata": {},
   "source": [
    "```\n",
    "char_ids =set(\n",
    "    list(range(1,8)) + # Population\n",
    "    list(range(41, 111)) + # Household (structure, family size) metrics\n",
    "    list(range(242, 383)) + # Income metrics\n",
    "    list(range(1414, 1500)) # Private Household metrics \n",
    ")\n",
    "```"
   ]
  },
  {
   "cell_type": "markdown",
   "id": "46789cf3-2807-430b-8a3d-c67ed833a414",
   "metadata": {},
   "source": [
    "## Utilities"
   ]
  },
  {
   "cell_type": "code",
   "execution_count": 4,
   "id": "dc8356ef-a11d-44d2-a75f-515241025473",
   "metadata": {},
   "outputs": [],
   "source": [
    "def lonboard_vis(selected_pids, data, cmap, layer_kwargs = None, sample_frac=0.5, map_kwargs=None): \n",
    "    \"\"\"Plot selected pathways using lonboard.\"\"\"\n",
    "    layer_kwargs = layer_kwargs or {}\n",
    "    map_kwargs = map_kwargs or {}\n",
    "\n",
    "    plot_gdf = data[data[\"pid\"].isin(selected_pids)].copy()\n",
    "    plot_gdf = plot_gdf.sample(frac=sample_frac, random_state=42)\n",
    "    \n",
    "    counts = plot_gdf[\"label\"].value_counts()\n",
    "    plot_gdf[\"_count\"] = plot_gdf[\"label\"].map(counts)\n",
    "    plot_gdf = plot_gdf.sort_values(\"_count\", ascending=False).drop(columns=\"_count\")\n",
    "\n",
    "    # Converting to centroids\n",
    "    jitter = 4\n",
    "    \n",
    "    plot_gdf = plot_gdf.to_crs(\"EPSG:3347\")\n",
    "    plot_gdf[\"geometry\"] = plot_gdf.geometry.centroid.apply(\n",
    "        lambda pt: Point(\n",
    "            pt.x + np.random.uniform(-jitter, jitter),\n",
    "            pt.y + np.random.uniform(-jitter, jitter)\n",
    "        )\n",
    "    )\n",
    "    plot_gdf = plot_gdf.to_crs(\"EPSG:4326\")\n",
    "\n",
    "    # Coloring\n",
    "    labels = sorted(data[\"label\"].unique())\n",
    "    label_to_int = {label: i for i, label in enumerate(labels)}\n",
    "    int_cmap = {label_to_int[l]: c for l, c in cmap.items()}\n",
    "    \n",
    "    centroid_colors = apply_categorical_cmap(\n",
    "        values=plot_gdf[\"label\"].map(label_to_int),\n",
    "        cmap=int_cmap\n",
    "    )\n",
    "\n",
    "    # Plotting\n",
    "    default_layer_kwargs = {\n",
    "        \"radius_min_pixels\": 2,\n",
    "        \"radius_scale\": 5,\n",
    "        \"radius_units\": \"meters\",\n",
    "        \"opacity\": 0.25,\n",
    "    }\n",
    "    layer_kwargs = {**default_layer_kwargs, **(layer_kwargs or {})}\n",
    "    centroid_layer = ScatterplotLayer.from_geopandas(\n",
    "        plot_gdf,\n",
    "        get_fill_color=centroid_colors,\n",
    "        **layer_kwargs\n",
    "    )\n",
    "\n",
    "    default_map_kwargs = {\n",
    "        \"basemap_style\": lonboard.basemap.CartoBasemap.DarkMatterNoLabels,\n",
    "    }\n",
    "    map_kwargs = {**default_map_kwargs, **(map_kwargs or {})}\n",
    "    \n",
    "    return Map(\n",
    "        [centroid_layer], \n",
    "        # parameters=parameters,\n",
    "        **map_kwargs\n",
    "    )"
   ]
  },
  {
   "cell_type": "code",
   "execution_count": 5,
   "id": "2fdebba4-7d80-4ea1-bee5-45c9e4070048",
   "metadata": {},
   "outputs": [],
   "source": [
    "def quick_vis(nimby_pids, pathways, cmap):\n",
    "    import matplotlib.pyplot as plt\n",
    "\n",
    "    # Filter and group\n",
    "    filtered = pathways[pathways['pid'].isin(nimby_pids)]\n",
    "    grouped = filtered.groupby('label')['opportunity'].agg(['count', 'sum']).reset_index()\n",
    "\n",
    "    # Sort by 'count' and 'sum'\n",
    "    count_sorted = grouped.sort_values(by='count', ascending=False)\n",
    "    sum_sorted = grouped.sort_values(by='sum', ascending=False)\n",
    "\n",
    "    # Normalize colors\n",
    "    count_colors = [tuple(c/255 for c in cmap[label]) for label in count_sorted['label']]\n",
    "    sum_colors = [tuple(c/255 for c in cmap[label]) for label in sum_sorted['label']]\n",
    "\n",
    "    fig, (ax1, ax2) = plt.subplots(1, 2, figsize=(7, 3))\n",
    "\n",
    "    # Plot count\n",
    "    ax1.bar(count_sorted['label'], count_sorted['count'], color=count_colors)\n",
    "    ax1.set_title('Pathway counts')\n",
    "    ax1.grid(False)\n",
    "\n",
    "    # Plot sum\n",
    "    ax2.bar(sum_sorted['label'], sum_sorted['sum'], color=sum_colors)\n",
    "    ax2.set_title('Opportunity')\n",
    "    ax2.grid(False)\n",
    "\n",
    "    plt.tight_layout()\n",
    "    plt.show()"
   ]
  },
  {
   "cell_type": "code",
   "execution_count": 6,
   "id": "4c644483-c799-4006-83a0-287d3c12a8e4",
   "metadata": {},
   "outputs": [],
   "source": [
    "def quick_vis_tri(nimby_pids, pathways, cmap):\n",
    "    import matplotlib.pyplot as plt\n",
    "\n",
    "    # Filter and group\n",
    "    filtered = pathways[pathways['pid'].isin(nimby_pids)]\n",
    "    grouped = filtered.groupby('label').agg({\n",
    "        'opportunity': ['count', 'sum'],\n",
    "        'cost_emb': 'sum'\n",
    "    }).reset_index()\n",
    "    grouped.columns = ['label', 'count', 'sum_opportunity', 'sum_cost']\n",
    "    \n",
    "    label_order = [\"bment\", \"vsplit\", \"adu\", \"p2lo\"]  # your desired order\n",
    "\n",
    "    # Reindex grouped to follow label_order\n",
    "    grouped = grouped.set_index(\"label\").reindex(label_order).reset_index()\n",
    "\n",
    "    # # Sort for each subplot\n",
    "    # count_sorted = grouped.sort_values(by='count', ascending=False)\n",
    "    # sum_sorted = grouped.sort_values(by='sum_opportunity', ascending=False)\n",
    "    # cost_sorted = grouped.sort_values(by='sum_cost', ascending=False)\n",
    "\n",
    "    # Normalize colors\n",
    "    # count_colors = [tuple(c / 255 for c in cmap[label]) for label in count_sorted['label']]\n",
    "    # sum_colors = [tuple(c / 255 for c in cmap[label]) for label in sum_sorted['label']]\n",
    "    # cost_colors = [tuple(c / 255 for c in cmap[label]) for label in cost_sorted['label']]\n",
    "    colors = [tuple(c / 255 for c in cmap[label]) for label in grouped['label']]\n",
    "\n",
    "    fig, (ax1, ax2, ax3) = plt.subplots(1, 3, figsize=(10.5, 3), dpi=150)\n",
    "\n",
    "    ax1.bar(grouped['label'], grouped['count'], color=colors)\n",
    "    ax1.set_title('Pathway counts')\n",
    "    ax1.grid(False)\n",
    "\n",
    "    ax2.bar(grouped['label'], grouped['sum_opportunity'], color=colors)\n",
    "    ax2.set_title('Opportunity (ppl)')\n",
    "    ax2.grid(False)\n",
    "\n",
    "    ax3.bar(grouped['label'], grouped['sum_cost']/1e9, color=colors)\n",
    "    ax3.set_title('Embodied Carbon (Mt)')\n",
    "    ax3.grid(False)\n",
    "\n",
    "    plt.tight_layout()\n",
    "    plt.show()\n"
   ]
  },
  {
   "cell_type": "code",
   "execution_count": 7,
   "id": "0e7c227c-fb05-463d-aca1-0b429b9c9900",
   "metadata": {},
   "outputs": [],
   "source": [
    "def sjoin_greatest_intersection(\n",
    "    target_df: gpd.GeoDataFrame,\n",
    "    source_df: gpd.GeoDataFrame,\n",
    "    variables: list[str],\n",
    ") -> gpd.GeoDataFrame:\n",
    "    \"\"\"Join variables from source_df based on the largest intersection. In case of a tie it picks the first one.\n",
    "\n",
    "    From https://pysal.org/tobler/_modules/tobler/area_weighted/area_join.html#area_join\n",
    "\n",
    "    Args:\n",
    "        source_df (geopandas.GeoDataFrame): GeoDataFrame containing source values.\n",
    "        target_df (geopandas.GeoDataFrame): GeoDataFrame containing target values.\n",
    "        variables (str or list-like): Column(s) in `source_df` dataframe for variable(s) to be joined.\n",
    "\n",
    "    Returns:\n",
    "        geopandas.GeoDataFrame: The `target_df` GeoDataFrame with joined variables as additional columns.\n",
    "\n",
    "    \"\"\"\n",
    "    if not pd.api.types.is_list_like(variables):\n",
    "        variables = [variables]\n",
    "\n",
    "    for v in variables:\n",
    "        if v in target_df.columns:\n",
    "            msg = f\"Column '{v}' already present in target_df.\"\n",
    "            raise ValueError(msg)\n",
    "\n",
    "    target_df = target_df.copy()\n",
    "    target_ix, source_ix = source_df.sindex.query(\n",
    "        target_df.geometry,\n",
    "        predicate=\"intersects\",\n",
    "    )\n",
    "    areas = (\n",
    "        target_df.geometry.values[target_ix]  # noqa: PD011\n",
    "        .intersection(source_df.geometry.values[source_ix])  # noqa: PD011\n",
    "        .area\n",
    "    )\n",
    "\n",
    "    main = []\n",
    "    for i in range(len(target_df)):  # vectorise this loop?\n",
    "        mask = target_ix == i\n",
    "        if np.any(mask):\n",
    "            main.append(source_ix[mask][np.argmax(areas[mask])])\n",
    "        else:\n",
    "            main.append(np.nan)\n",
    "\n",
    "    main = np.array(main, dtype=float)\n",
    "    mask = ~np.isnan(main)\n",
    "\n",
    "    for v in variables:\n",
    "        arr = np.empty(len(main), dtype=object)\n",
    "        arr[mask] = source_df[v].to_numpy()[main[mask].astype(int)]\n",
    "        try:\n",
    "            arr = arr.astype(source_df[v].dtype)\n",
    "        except TypeError:\n",
    "            warnings.warn(\n",
    "                f\"Cannot preserve dtype of '{v}'. Falling back to `dtype=object`.\",\n",
    "            )\n",
    "        target_df[v] = arr\n",
    "\n",
    "    return target_df"
   ]
  },
  {
   "cell_type": "code",
   "execution_count": 8,
   "id": "a3cc2425-a72c-4b4c-81a5-139f5d12c2ab",
   "metadata": {},
   "outputs": [],
   "source": [
    "from typing import Self\n",
    "class SpatialGraph:\n",
    "    \"\"\"A graph created from geodata.\n",
    "\n",
    "    Typically created using SpatialGraph.create_from_geoseries()\n",
    "\n",
    "    Supported predicates for building the graph are:\n",
    "        - `intersects`\n",
    "        - `overlaps`\n",
    "\n",
    "    Attributes:\n",
    "        adj_list: The generated graph. Stored as an adjacency list ({id: {neighbour ids}}).\n",
    "            ids correspond to indices in the original geoseries.\n",
    "    \"\"\"\n",
    "\n",
    "    def __init__(self, adj_list: dict):\n",
    "        \"\"\"Create SpatialGraph object.\n",
    "\n",
    "        Args:\n",
    "            adj_list (dict): The graph of adjacent polygons in an adjaceny list form ({id: {neighbour ids}}).\n",
    "        \"\"\"\n",
    "        self.adj_list = adj_list\n",
    "\n",
    "    @classmethod\n",
    "    def create_from_geoseries(\n",
    "        cls,\n",
    "        gs: gpd.GeoSeries,\n",
    "        predicate: str = \"intersects\",\n",
    "    ) -> Self:\n",
    "        \"\"\"Create a SpatialGraph object from a geoseries.\n",
    "\n",
    "        Args:\n",
    "            gs (gpd.GeoSeries): Input geoseries. Preferrably in a projected crs\n",
    "            predicate (str, optional): Binary predicate to use to determine neighbouring geometries.\n",
    "                Defaults to \"intersects\"\n",
    "        \"\"\"\n",
    "        gs = gs.copy()\n",
    "\n",
    "        original_index = gs.index.to_list()\n",
    "        sindex = gs.sindex\n",
    "\n",
    "        graph = {}\n",
    "        for idx, poly in gs.items():\n",
    "            neighbour_sidxs = sindex.query(poly, predicate)\n",
    "            neighbours = {original_index[i] for i in neighbour_sidxs}\n",
    "\n",
    "            # Some predicates will produce self-edges\n",
    "            if idx in neighbours:\n",
    "                neighbours.remove(idx)\n",
    "\n",
    "            graph[idx] = neighbours\n",
    "\n",
    "        return SpatialGraph(adj_list=graph)\n",
    "\n",
    "    def create_connected_components_map(self) -> dict:\n",
    "        \"\"\"Generates an {id: cc_id} map.\n",
    "\n",
    "        cc_id is the connected component to which a given polygon id belongs.\n",
    "\n",
    "        Returns:\n",
    "            dict: The {id: cc_id} map\n",
    "        \"\"\"\n",
    "        graph = self.adj_list\n",
    "\n",
    "        mapper = {}\n",
    "\n",
    "        group_id = 0\n",
    "        for v in graph:\n",
    "            if v not in mapper:\n",
    "                connected_component = self.get_connected(v)\n",
    "                mapper.update({idx: group_id for idx in connected_component})\n",
    "                group_id += 1\n",
    "\n",
    "        return mapper\n",
    "\n",
    "    def get_connected(self, root: int) -> set[int]:\n",
    "        \"\"\"Given a root node, generates a list of connected nodes with DFS.\"\"\"\n",
    "        stack = [root]\n",
    "        visited = set()\n",
    "\n",
    "        while len(stack) > 0:\n",
    "            v = stack.pop(-1)\n",
    "            if v not in visited:\n",
    "                visited.add(v)\n",
    "                stack = stack + list(self.adj_list[v])\n",
    "\n",
    "        return visited\n"
   ]
  },
  {
   "cell_type": "code",
   "execution_count": 9,
   "id": "414df98f-e36a-4331-b957-3ec76d636d68",
   "metadata": {},
   "outputs": [],
   "source": [
    "def generate_doubles(step_size: float) -> list[float]:\n",
    "    \"\"\"Generate a list of two points that sum to 1.\"\"\"\n",
    "    n = int(1 / step_size)\n",
    "    doubles = []\n",
    "\n",
    "    for i in range(n + 1):\n",
    "        j = n - i\n",
    "\n",
    "        w1 = i * step_size\n",
    "        w2 = j * step_size\n",
    "\n",
    "        doubles.append([w1, w2])\n",
    "\n",
    "    return doubles"
   ]
  },
  {
   "cell_type": "code",
   "execution_count": 10,
   "id": "747d8d3d-2a0b-4969-b96a-bab5463123dc",
   "metadata": {},
   "outputs": [],
   "source": [
    "def weighted_median(values, weights):\n",
    "    \"\"\"Compute the weighted median of a set of values.\"\"\"\n",
    "    sorter = np.argsort(values)\n",
    "    values = np.array(values)[sorter]\n",
    "    weights = np.array(weights)[sorter]\n",
    "\n",
    "    cumulative_weight = np.cumsum(weights)\n",
    "    cutoff = weights.sum() / 2.0\n",
    "    return values[np.searchsorted(cumulative_weight, cutoff)]"
   ]
  },
  {
   "cell_type": "markdown",
   "id": "ee696b71-db31-40b8-b932-de06308754a7",
   "metadata": {},
   "source": [
    "# Scenarios\n",
    "Optimizing constraint-based scenarios with a single, linear objective function."
   ]
  },
  {
   "cell_type": "code",
   "execution_count": 11,
   "id": "d632c998-97be-4435-bd01-e4fb1c644ced",
   "metadata": {},
   "outputs": [],
   "source": [
    "obj_weights = {\n",
    "    \"cost_emb\": 1.0\n",
    "}"
   ]
  },
  {
   "cell_type": "markdown",
   "id": "78907ff6-5e77-4b03-97ef-af845ec321d6",
   "metadata": {},
   "source": [
    "## Base"
   ]
  },
  {
   "cell_type": "markdown",
   "id": "5514c083-4432-46ad-baf2-b1c165460f98",
   "metadata": {},
   "source": [
    "### Setup"
   ]
  },
  {
   "cell_type": "code",
   "execution_count": 40,
   "id": "20d2eb44-c4b3-43e1-aac4-c40636281c60",
   "metadata": {},
   "outputs": [],
   "source": [
    "opt = PathwayOptimizer(pathways)\n",
    "opt.build_variables()\n",
    "opt.set_objective(obj_weights)"
   ]
  },
  {
   "cell_type": "code",
   "execution_count": 41,
   "id": "1a27046c-8811-499d-8ede-116728eee35d",
   "metadata": {},
   "outputs": [
    {
     "data": {
      "text/plain": [
       "<MConstr (2433,)>"
      ]
     },
     "execution_count": 41,
     "metadata": {},
     "output_type": "execute_result"
    }
   ],
   "source": [
    "# Baseline constraints\n",
    "opt.add_opportunity_constraints(1100000, \">=\", tag=\"min_opp\") #Must grow by 1.1 million people\n",
    "opt.add_mutual_exclusion(\"p2lo\", tag=\"mutal_exclusion\") #Converting parking lots means you can't do other things in that area"
   ]
  },
  {
   "cell_type": "code",
   "execution_count": 43,
   "id": "f5631e42-5432-44ed-bad6-a54d4c272b7c",
   "metadata": {},
   "outputs": [
    {
     "name": "stdout",
     "output_type": "stream",
     "text": [
      "Gurobi Model Debug Info\n",
      "- Variables: 843297\n",
      "- Constraints: 2434\n",
      "- Objective set: True\n",
      "- Model status: 1\n"
     ]
    }
   ],
   "source": [
    "opt.debug_model()"
   ]
  },
  {
   "cell_type": "markdown",
   "id": "5c2da59d-ae53-4642-8128-26905a74562b",
   "metadata": {},
   "source": [
    "### Solve"
   ]
  },
  {
   "cell_type": "code",
   "execution_count": 44,
   "id": "669bd689-5117-4314-827d-03aa7139924f",
   "metadata": {},
   "outputs": [
    {
     "name": "stdout",
     "output_type": "stream",
     "text": [
      "Optimization Summary\n",
      "  Objective Value   : 3247782332.39\n",
      "  Total Opportunity: 1100001.00\n",
      "  Solve Time        : 2.951 sec\n",
      "  Selected Pathways : 212931\n"
     ]
    },
    {
     "data": {
      "text/plain": [
       "{'objective_value': 3247782332.386051,\n",
       " 'cost_column_sums': {'cost_emb': np.float64(3247782332.38605),\n",
       "  'cost_bus': np.float64(43887413.10884028),\n",
       "  'cost_train': np.float64(419094517.0895012),\n",
       "  'cost_transit': np.float64(882076447.2878428),\n",
       "  'cost_access': np.float64(136702.1143617309)},\n",
       " 'total_opportunity': np.float64(1100001.0000000005),\n",
       " 'solve_time': 2.9509999752044678,\n",
       " 'selected_count': 212931}"
      ]
     },
     "execution_count": 44,
     "metadata": {},
     "output_type": "execute_result"
    }
   ],
   "source": [
    "opt.solve(verbose=False)\n",
    "opt.get_solution_summary()"
   ]
  },
  {
   "cell_type": "code",
   "execution_count": 25,
   "id": "8bdbcb1b-df63-4052-abfa-ead477637c97",
   "metadata": {},
   "outputs": [
    {
     "data": {
      "application/vnd.jupyter.widget-view+json": {
       "model_id": "31f93e672b0c4c2fb45975593dee94c9",
       "version_major": 2,
       "version_minor": 1
      },
      "text/plain": [
       "Map(basemap_style=<CartoBasemap.DarkMatterNoLabels: 'https://basemaps.cartocdn.com/gl/dark-matter-nolabels-gl-…"
      ]
     },
     "execution_count": 25,
     "metadata": {},
     "output_type": "execute_result"
    }
   ],
   "source": [
    "base_pids = opt.get_selected_pids()\n",
    "\n",
    "cmap = {\n",
    "    \"bment\": palette.colors[3],\n",
    "    \"vsplit\": palette.colors[2],\n",
    "    \"adu\": palette.colors[1],\n",
    "    \"p2lo\": palette.colors[0]\n",
    "}\n",
    "\n",
    "lonboard_vis(base_pids,\n",
    "             pathways,\n",
    "             cmap,\n",
    "             sample_frac=0.2, \n",
    "             layer_kwargs={\n",
    "                 \"opacity\":0.4,\n",
    "                 \"radius_scale\": 1,\n",
    "                 # \"radius_max_pixels\": 2,\n",
    "                 # \"radius_min_pixels\": 2,\n",
    "             },\n",
    "             map_kwargs={\n",
    "                 \"_height\":800\n",
    "             }\n",
    "            )"
   ]
  },
  {
   "cell_type": "code",
   "execution_count": 26,
   "id": "d64b1497-bc4c-43bc-9b12-cbffba72be7d",
   "metadata": {},
   "outputs": [
    {
     "data": {
      "image/png": "[encoded data removed]",
      "text/plain": [
       "<Figure size 1575x450 with 3 Axes>"
      ]
     },
     "metadata": {},
     "output_type": "display_data"
    }
   ],
   "source": [
    "quick_vis_tri(base_pids, pathways, cmap)"
   ]
  },
  {
   "cell_type": "code",
   "execution_count": 27,
   "id": "21cb1629-94f3-49e7-888a-23e5a4f82af8",
   "metadata": {},
   "outputs": [
    {
     "name": "stdout",
     "output_type": "stream",
     "text": [
      "Embodied Carbon: 3.248 Mt\n"
     ]
    }
   ],
   "source": [
    "total_carbon = pathways[pathways[\"pid\"].isin(base_pids)][\"cost_emb\"].sum()/1e9\n",
    "print(f\"Embodied Carbon: {total_carbon:.4} Mt\")"
   ]
  },
  {
   "cell_type": "code",
   "execution_count": 28,
   "id": "5ff43a1f-07df-496b-b726-245d0b15f9e9",
   "metadata": {},
   "outputs": [],
   "source": [
    "with (results_dir / \"base_pids.pkl\").open(\"wb\") as f:\n",
    "    pickle.dump(base_pids, f)"
   ]
  },
  {
   "cell_type": "markdown",
   "id": "3b434b62-3e37-4b75-b49b-c823e448f498",
   "metadata": {},
   "source": [
    "## Generic\n",
    "Just base + everything can only grow by up to 2x"
   ]
  },
  {
   "cell_type": "markdown",
   "id": "a5e9899f-f65a-4473-b431-a420eb6ce0ab",
   "metadata": {},
   "source": [
    "### Setup"
   ]
  },
  {
   "cell_type": "code",
   "execution_count": 45,
   "id": "8418abad-73c7-4512-8228-75a9ca7f33d8",
   "metadata": {},
   "outputs": [],
   "source": [
    "opt = PathwayOptimizer(pathways)\n",
    "opt.build_variables()\n",
    "opt.set_objective(obj_weights)"
   ]
  },
  {
   "cell_type": "code",
   "execution_count": 46,
   "id": "08bdd90e-205f-46dd-9d93-cc03beb89905",
   "metadata": {},
   "outputs": [
    {
     "data": {
      "text/plain": [
       "<MConstr (2433,)>"
      ]
     },
     "execution_count": 46,
     "metadata": {},
     "output_type": "execute_result"
    }
   ],
   "source": [
    "# Baseline constraints\n",
    "opt.add_opportunity_constraints(1100000, \">=\", tag=\"min_opp\") #Must grow by 1.1 million people\n",
    "opt.add_mutual_exclusion(\"p2lo\", tag=\"mutal_exclusion\") #Converting parking lots means you can't do other things in that area"
   ]
  },
  {
   "cell_type": "code",
   "execution_count": 47,
   "id": "24000c62-278d-4a60-bebf-0ab192a19ed0",
   "metadata": {},
   "outputs": [],
   "source": [
    "# Generic Constraints\n",
    "cdata = census_data_2021[[\"1\", \"geometry\"]].copy() # 1: 2021 population, 243: Median HH income\n",
    "\n",
    "cdata[\"limit\"] = cdata[\"1\"] * 2\n",
    "\n",
    "opt.add_opportunity_constraints(cdata[\"limit\"].to_list(), \"<=\", cdata[\"geometry\"].to_list(), tag=\"doubling\");"
   ]
  },
  {
   "cell_type": "code",
   "execution_count": 54,
   "id": "05490cad-d934-451b-8d4b-85f9d7d70ba2",
   "metadata": {},
   "outputs": [
    {
     "name": "stdout",
     "output_type": "stream",
     "text": [
      "Gurobi Model Debug Info\n",
      "- Variables: 843297\n",
      "- Constraints: 6176\n",
      "- Objective set: True\n",
      "- Model status: 2\n"
     ]
    }
   ],
   "source": [
    "opt.debug_model()"
   ]
  },
  {
   "cell_type": "markdown",
   "id": "4f56e6e3-34af-4460-8f26-4ae7d3a96557",
   "metadata": {},
   "source": [
    "### Solve"
   ]
  },
  {
   "cell_type": "code",
   "execution_count": 48,
   "id": "cad8ea72-51fe-49fb-aa54-9f0cee7e9590",
   "metadata": {},
   "outputs": [
    {
     "name": "stdout",
     "output_type": "stream",
     "text": [
      "Optimization Summary\n",
      "  Objective Value   : 3248341009.05\n",
      "  Total Opportunity: 1100001.00\n",
      "  Solve Time        : 4.139 sec\n",
      "  Selected Pathways : 213266\n"
     ]
    },
    {
     "data": {
      "text/plain": [
       "{'objective_value': 3248341009.0490594,\n",
       " 'cost_column_sums': {'cost_emb': np.float64(3248341009.049057),\n",
       "  'cost_bus': np.float64(43853013.733700626),\n",
       "  'cost_train': np.float64(419467787.0644774),\n",
       "  'cost_transit': np.float64(882788587.8626555),\n",
       "  'cost_access': np.float64(136854.32253515357)},\n",
       " 'total_opportunity': np.float64(1100000.9999999998),\n",
       " 'solve_time': 4.138999938964844,\n",
       " 'selected_count': 213266}"
      ]
     },
     "execution_count": 48,
     "metadata": {},
     "output_type": "execute_result"
    }
   ],
   "source": [
    "opt.solve(verbose=False)\n",
    "opt.get_solution_summary()"
   ]
  },
  {
   "cell_type": "code",
   "execution_count": 49,
   "id": "0bcdd7b6-ff6c-4383-ade8-bc2fe4c6edea",
   "metadata": {},
   "outputs": [
    {
     "data": {
      "text/plain": [
       "{'objective_value': 3248341009.0490594,\n",
       " 'cost_column_sums': {'cost_emb': np.float64(3248341009.049057),\n",
       "  'cost_bus': np.float64(43853013.733700626),\n",
       "  'cost_train': np.float64(419467787.0644774),\n",
       "  'cost_transit': np.float64(882788587.8626555),\n",
       "  'cost_access': np.float64(136854.32253515357)},\n",
       " 'total_opportunity': np.float64(1100000.9999999998),\n",
       " 'solve_time': 4.138999938964844,\n",
       " 'selected_count': 213266}"
      ]
     },
     "execution_count": 49,
     "metadata": {},
     "output_type": "execute_result"
    }
   ],
   "source": [
    "opt.get_solution_summary()"
   ]
  },
  {
   "cell_type": "code",
   "execution_count": 50,
   "id": "58d106c5-9026-4257-9910-c68111f04383",
   "metadata": {},
   "outputs": [
    {
     "data": {
      "application/vnd.jupyter.widget-view+json": {
       "model_id": "b6c347c35a754f82ac33582551f13c4c",
       "version_major": 2,
       "version_minor": 1
      },
      "text/plain": [
       "Map(basemap_style=<CartoBasemap.DarkMatterNoLabels: 'https://basemaps.cartocdn.com/gl/dark-matter-nolabels-gl-…"
      ]
     },
     "execution_count": 50,
     "metadata": {},
     "output_type": "execute_result"
    }
   ],
   "source": [
    "generic_pids = opt.get_selected_pids()\n",
    "\n",
    "cmap = {\n",
    "    \"bment\": palette.colors[3],\n",
    "    \"vsplit\": palette.colors[2],\n",
    "    \"adu\": palette.colors[1],\n",
    "    \"p2lo\": palette.colors[0]\n",
    "}\n",
    "\n",
    "lonboard_vis(generic_pids,\n",
    "             pathways,\n",
    "             cmap,\n",
    "             sample_frac=0.2, \n",
    "             layer_kwargs={\n",
    "                 \"opacity\":0.2,\n",
    "                 \"radius_scale\": 1,\n",
    "                 # \"radius_max_pixels\": 2,\n",
    "                 # \"radius_min_pixels\": 2,\n",
    "             },\n",
    "             map_kwargs={\n",
    "                 \"_height\":800\n",
    "             }\n",
    "            )"
   ]
  },
  {
   "cell_type": "code",
   "execution_count": 51,
   "id": "a4cc401c-a9b2-4096-bcab-8ab4c32ad9f1",
   "metadata": {},
   "outputs": [
    {
     "data": {
      "image/png": "[encoded data removed]",
      "text/plain": [
       "<Figure size 1575x450 with 3 Axes>"
      ]
     },
     "metadata": {},
     "output_type": "display_data"
    }
   ],
   "source": [
    "quick_vis_tri(generic_pids, pathways, cmap)"
   ]
  },
  {
   "cell_type": "code",
   "execution_count": 52,
   "id": "6958f105-ff0a-4f99-9a30-6079276af26a",
   "metadata": {},
   "outputs": [
    {
     "name": "stdout",
     "output_type": "stream",
     "text": [
      "Embodied Carbon: 3.248 Mt\n"
     ]
    }
   ],
   "source": [
    "total_carbon = pathways[pathways[\"pid\"].isin(generic_pids)][\"cost_emb\"].sum()/1e9\n",
    "print(f\"Embodied Carbon: {total_carbon:.4} Mt\")"
   ]
  },
  {
   "cell_type": "code",
   "execution_count": 53,
   "id": "ddb74861-eb51-46e6-bae7-bc216bdc643f",
   "metadata": {},
   "outputs": [],
   "source": [
    "with (results_dir / \"generic_pids.pkl\").open(\"wb\") as f:\n",
    "    pickle.dump(generic_pids, f)"
   ]
  },
  {
   "cell_type": "markdown",
   "id": "5dbacfba-6f59-4723-8cb2-5206649a410a",
   "metadata": {},
   "source": [
    "## NIMBY\n",
    "In this scenario, we constrain the top 30% of areas by median household income to minmal growth (10%). Every other area can go up to *double* its current population."
   ]
  },
  {
   "cell_type": "markdown",
   "id": "864aab9d-c460-4eda-8445-986fed429562",
   "metadata": {},
   "source": [
    "### Setup"
   ]
  },
  {
   "cell_type": "code",
   "execution_count": 55,
   "id": "bb1989c9-c279-4f66-babc-8820e36ff540",
   "metadata": {},
   "outputs": [],
   "source": [
    "opt = PathwayOptimizer(pathways)\n",
    "opt.build_variables()\n",
    "opt.set_objective(obj_weights)"
   ]
  },
  {
   "cell_type": "code",
   "execution_count": 56,
   "id": "d7c4f7de-295d-49fc-a7c3-3569a66420f8",
   "metadata": {},
   "outputs": [
    {
     "data": {
      "text/plain": [
       "<MConstr (2433,)>"
      ]
     },
     "execution_count": 56,
     "metadata": {},
     "output_type": "execute_result"
    }
   ],
   "source": [
    "# Baseline constraints\n",
    "opt.add_opportunity_constraints(1100000, \">=\", tag=\"min_opp\") #Must grow by 1.1 million people\n",
    "opt.add_mutual_exclusion(\"p2lo\", tag=\"mutal_exclusion\") #Converting parking lots means you can't do other things in that area"
   ]
  },
  {
   "cell_type": "code",
   "execution_count": 79,
   "id": "e542f6d5-00dc-4c38-b676-fcb2d088d6c6",
   "metadata": {},
   "outputs": [],
   "source": [
    "# NIMBY Constraints\n",
    "cdata = census_data_2021[[\"1\", \"243\", \"geometry\"]].copy() # 1: 2021 population, 243: Median HH income\n",
    "cdata[\"243\"] = cdata[\"243\"].fillna(0)\n",
    "cdata = cdata.sort_values(\"243\")\n",
    "cdata[\"ptile\"] = cdata[\"243\"].rank(pct=True)\n",
    "\n",
    "top = cdata[cdata[\"ptile\"] >= 0.7].copy()\n",
    "bottom = cdata[cdata[\"ptile\"] < 0.7].copy()\n",
    "\n",
    "top[\"limit\"] = top[\"1\"]*0.1 # only 10% of existing population\n",
    "bottom[\"limit\"] = bottom[\"1\"] # double existing population\n",
    "\n",
    "opt.add_opportunity_constraints(top[\"limit\"].to_list(), \"<=\", top[\"geometry\"].to_list(), tag=\"top30\");\n",
    "opt.add_opportunity_constraints(bottom[\"limit\"].to_list(), \"<=\", bottom[\"geometry\"].to_list(), tag=\"bottom30\");"
   ]
  },
  {
   "cell_type": "code",
   "execution_count": 80,
   "id": "f9995a9d-7877-4aa1-a2bc-7610c23439b1",
   "metadata": {},
   "outputs": [],
   "source": [
    "top.to_parquet(\"top30.parquet\")"
   ]
  },
  {
   "cell_type": "code",
   "execution_count": 81,
   "id": "c2cfed14-0254-4947-b5f8-1459fc116a77",
   "metadata": {},
   "outputs": [
    {
     "data": {
      "text/html": [
       "<div>\n",
       "<style scoped>\n",
       "    .dataframe tbody tr th:only-of-type {\n",
       "        vertical-align: middle;\n",
       "    }\n",
       "\n",
       "    .dataframe tbody tr th {\n",
       "        vertical-align: top;\n",
       "    }\n",
       "\n",
       "    .dataframe thead th {\n",
       "        text-align: right;\n",
       "    }\n",
       "</style>\n",
       "<table border=\"1\" class=\"dataframe\">\n",
       "  <thead>\n",
       "    <tr style=\"text-align: right;\">\n",
       "      <th></th>\n",
       "      <th>1</th>\n",
       "      <th>243</th>\n",
       "      <th>geometry</th>\n",
       "      <th>ptile</th>\n",
       "      <th>limit</th>\n",
       "    </tr>\n",
       "  </thead>\n",
       "  <tbody>\n",
       "    <tr>\n",
       "      <th>828</th>\n",
       "      <td>783.0</td>\n",
       "      <td>109000.0</td>\n",
       "      <td>POLYGON ((-79.41221 43.67033, -79.41317 43.670...</td>\n",
       "      <td>0.703768</td>\n",
       "      <td>78.3</td>\n",
       "    </tr>\n",
       "    <tr>\n",
       "      <th>739</th>\n",
       "      <td>393.0</td>\n",
       "      <td>109000.0</td>\n",
       "      <td>POLYGON ((-79.45393 43.6646, -79.45374 43.6641...</td>\n",
       "      <td>0.703768</td>\n",
       "      <td>39.3</td>\n",
       "    </tr>\n",
       "    <tr>\n",
       "      <th>3421</th>\n",
       "      <td>594.0</td>\n",
       "      <td>109000.0</td>\n",
       "      <td>POLYGON ((-79.48536 43.65908, -79.48819 43.658...</td>\n",
       "      <td>0.703768</td>\n",
       "      <td>59.4</td>\n",
       "    </tr>\n",
       "    <tr>\n",
       "      <th>1173</th>\n",
       "      <td>638.0</td>\n",
       "      <td>109000.0</td>\n",
       "      <td>POLYGON ((-79.50531 43.59547, -79.50559 43.595...</td>\n",
       "      <td>0.703768</td>\n",
       "      <td>63.8</td>\n",
       "    </tr>\n",
       "    <tr>\n",
       "      <th>1092</th>\n",
       "      <td>445.0</td>\n",
       "      <td>109000.0</td>\n",
       "      <td>POLYGON ((-79.41918 43.64706, -79.41982 43.646...</td>\n",
       "      <td>0.703768</td>\n",
       "      <td>44.5</td>\n",
       "    </tr>\n",
       "    <tr>\n",
       "      <th>...</th>\n",
       "      <td>...</td>\n",
       "      <td>...</td>\n",
       "      <td>...</td>\n",
       "      <td>...</td>\n",
       "      <td>...</td>\n",
       "    </tr>\n",
       "    <tr>\n",
       "      <th>1745</th>\n",
       "      <td>455.0</td>\n",
       "      <td>432000.0</td>\n",
       "      <td>POLYGON ((-79.39398 43.72267, -79.39356 43.721...</td>\n",
       "      <td>0.998931</td>\n",
       "      <td>45.5</td>\n",
       "    </tr>\n",
       "    <tr>\n",
       "      <th>2095</th>\n",
       "      <td>462.0</td>\n",
       "      <td>440000.0</td>\n",
       "      <td>POLYGON ((-79.41369 43.69914, -79.41309 43.697...</td>\n",
       "      <td>0.999198</td>\n",
       "      <td>46.2</td>\n",
       "    </tr>\n",
       "    <tr>\n",
       "      <th>2116</th>\n",
       "      <td>430.0</td>\n",
       "      <td>456000.0</td>\n",
       "      <td>POLYGON ((-79.40741 43.69654, -79.40705 43.695...</td>\n",
       "      <td>0.999466</td>\n",
       "      <td>43.0</td>\n",
       "    </tr>\n",
       "    <tr>\n",
       "      <th>2035</th>\n",
       "      <td>549.0</td>\n",
       "      <td>476000.0</td>\n",
       "      <td>POLYGON ((-79.37831 43.68603, -79.37834 43.685...</td>\n",
       "      <td>0.999733</td>\n",
       "      <td>54.9</td>\n",
       "    </tr>\n",
       "    <tr>\n",
       "      <th>2096</th>\n",
       "      <td>382.0</td>\n",
       "      <td>608000.0</td>\n",
       "      <td>POLYGON ((-79.40786 43.69764, -79.40741 43.696...</td>\n",
       "      <td>1.000000</td>\n",
       "      <td>38.2</td>\n",
       "    </tr>\n",
       "  </tbody>\n",
       "</table>\n",
       "<p>1131 rows × 5 columns</p>\n",
       "</div>"
      ],
      "text/plain": [
       "          1       243                                           geometry  \\\n",
       "828   783.0  109000.0  POLYGON ((-79.41221 43.67033, -79.41317 43.670...   \n",
       "739   393.0  109000.0  POLYGON ((-79.45393 43.6646, -79.45374 43.6641...   \n",
       "3421  594.0  109000.0  POLYGON ((-79.48536 43.65908, -79.48819 43.658...   \n",
       "1173  638.0  109000.0  POLYGON ((-79.50531 43.59547, -79.50559 43.595...   \n",
       "1092  445.0  109000.0  POLYGON ((-79.41918 43.64706, -79.41982 43.646...   \n",
       "...     ...       ...                                                ...   \n",
       "1745  455.0  432000.0  POLYGON ((-79.39398 43.72267, -79.39356 43.721...   \n",
       "2095  462.0  440000.0  POLYGON ((-79.41369 43.69914, -79.41309 43.697...   \n",
       "2116  430.0  456000.0  POLYGON ((-79.40741 43.69654, -79.40705 43.695...   \n",
       "2035  549.0  476000.0  POLYGON ((-79.37831 43.68603, -79.37834 43.685...   \n",
       "2096  382.0  608000.0  POLYGON ((-79.40786 43.69764, -79.40741 43.696...   \n",
       "\n",
       "         ptile  limit  \n",
       "828   0.703768   78.3  \n",
       "739   0.703768   39.3  \n",
       "3421  0.703768   59.4  \n",
       "1173  0.703768   63.8  \n",
       "1092  0.703768   44.5  \n",
       "...        ...    ...  \n",
       "1745  0.998931   45.5  \n",
       "2095  0.999198   46.2  \n",
       "2116  0.999466   43.0  \n",
       "2035  0.999733   54.9  \n",
       "2096  1.000000   38.2  \n",
       "\n",
       "[1131 rows x 5 columns]"
      ]
     },
     "execution_count": 81,
     "metadata": {},
     "output_type": "execute_result"
    }
   ],
   "source": [
    "top"
   ]
  },
  {
   "cell_type": "markdown",
   "id": "85106ccb-cba9-401e-aead-e887dde3a025",
   "metadata": {},
   "source": [
    "### Solve"
   ]
  },
  {
   "cell_type": "code",
   "execution_count": 58,
   "id": "812f5f7d-87c3-4f3e-a6c7-bb99b9d0ad95",
   "metadata": {},
   "outputs": [
    {
     "name": "stdout",
     "output_type": "stream",
     "text": [
      "Optimization Summary\n",
      "  Objective Value   : 5432811614.87\n",
      "  Total Opportunity: 1100011.50\n",
      "  Solve Time        : 23.419 sec\n",
      "  Selected Pathways : 258081\n"
     ]
    },
    {
     "data": {
      "text/plain": [
       "{'objective_value': 5432811614.866856,\n",
       " 'cost_column_sums': {'cost_emb': np.float64(5432811614.866845),\n",
       "  'cost_bus': np.float64(44481047.24358481),\n",
       "  'cost_train': np.float64(485414370.94821054),\n",
       "  'cost_transit': np.float64(1015309789.1400062),\n",
       "  'cost_access': np.float64(157191.8515892972)},\n",
       " 'total_opportunity': np.float64(1100011.5000000002),\n",
       " 'solve_time': 23.418999910354614,\n",
       " 'selected_count': 258081}"
      ]
     },
     "execution_count": 58,
     "metadata": {},
     "output_type": "execute_result"
    }
   ],
   "source": [
    "opt.solve(verbose=False)\n",
    "opt.get_solution_summary()"
   ]
  },
  {
   "cell_type": "code",
   "execution_count": 59,
   "id": "b6be5822-48ca-4de8-9640-7c71934e2cf4",
   "metadata": {},
   "outputs": [
    {
     "data": {
      "text/plain": [
       "{'objective_value': 5432811614.866856,\n",
       " 'cost_column_sums': {'cost_emb': np.float64(5432811614.866845),\n",
       "  'cost_bus': np.float64(44481047.24358481),\n",
       "  'cost_train': np.float64(485414370.94821054),\n",
       "  'cost_transit': np.float64(1015309789.1400062),\n",
       "  'cost_access': np.float64(157191.8515892972)},\n",
       " 'total_opportunity': np.float64(1100011.5000000002),\n",
       " 'solve_time': 23.418999910354614,\n",
       " 'selected_count': 258081}"
      ]
     },
     "execution_count": 59,
     "metadata": {},
     "output_type": "execute_result"
    }
   ],
   "source": [
    "opt.get_solution_summary()"
   ]
  },
  {
   "cell_type": "code",
   "execution_count": 60,
   "id": "c4d6abd2-344c-408e-be64-8481a7c7a0e0",
   "metadata": {},
   "outputs": [
    {
     "data": {
      "application/vnd.jupyter.widget-view+json": {
       "model_id": "b2ea04d667744e009a0a05b71f832d4b",
       "version_major": 2,
       "version_minor": 1
      },
      "text/plain": [
       "Map(basemap_style=<CartoBasemap.DarkMatterNoLabels: 'https://basemaps.cartocdn.com/gl/dark-matter-nolabels-gl-…"
      ]
     },
     "execution_count": 60,
     "metadata": {},
     "output_type": "execute_result"
    }
   ],
   "source": [
    "nimby_pids = opt.get_selected_pids()\n",
    "\n",
    "cmap = {\n",
    "    \"bment\": palette.colors[3],\n",
    "    \"vsplit\": palette.colors[2],\n",
    "    \"adu\": palette.colors[1],\n",
    "    \"p2lo\": palette.colors[0]\n",
    "}\n",
    "\n",
    "lonboard_vis(nimby_pids,\n",
    "             pathways,\n",
    "             cmap,\n",
    "             sample_frac=0.2, \n",
    "             layer_kwargs={\n",
    "                 \"opacity\":0.4,\n",
    "                 \"radius_scale\": 1,\n",
    "                 # \"radius_max_pixels\": 2,\n",
    "                 # \"radius_min_pixels\": 2,\n",
    "             },\n",
    "             map_kwargs={\n",
    "                 \"_height\":800\n",
    "             }\n",
    "            )"
   ]
  },
  {
   "cell_type": "code",
   "execution_count": 61,
   "id": "b38801e3-597c-448f-8401-80be48f36bdc",
   "metadata": {},
   "outputs": [
    {
     "data": {
      "image/png": "[encoded data removed]",
      "text/plain": [
       "<Figure size 1575x450 with 3 Axes>"
      ]
     },
     "metadata": {},
     "output_type": "display_data"
    }
   ],
   "source": [
    "quick_vis_tri(nimby_pids, pathways, cmap)"
   ]
  },
  {
   "cell_type": "code",
   "execution_count": 62,
   "id": "86ef5b4e-f03e-47c8-a1f0-54e5ab9da32f",
   "metadata": {},
   "outputs": [
    {
     "name": "stdout",
     "output_type": "stream",
     "text": [
      "Embodied Carbon: 5.433 Mt\n"
     ]
    }
   ],
   "source": [
    "total_carbon = pathways[pathways[\"pid\"].isin(nimby_pids)][\"cost_emb\"].sum()/1e9\n",
    "print(f\"Embodied Carbon: {total_carbon:.4} Mt\")"
   ]
  },
  {
   "cell_type": "code",
   "execution_count": 63,
   "id": "5399f643-55f5-43f1-9392-aca277b0b79e",
   "metadata": {},
   "outputs": [],
   "source": [
    "with (results_dir / \"nimby_pids.pkl\").open(\"wb\") as f:\n",
    "    pickle.dump(nimby_pids, f)"
   ]
  },
  {
   "cell_type": "markdown",
   "id": "2ce68762-506a-42b8-9c3b-42d1a8b3fcdc",
   "metadata": {},
   "source": [
    "## Historical Proportional\n",
    "In this scenario, we assume that the population of a given census dissemination area can grow at MOST as fast as it has grown in the past 5 years. The limit is then achieved by extending this growth rate out to 2050, and then picking the minimum of this number we would get if we built at the maximum *existing* density."
   ]
  },
  {
   "cell_type": "markdown",
   "id": "fb5dc22b-2f62-4158-80df-f4789fd08c87",
   "metadata": {},
   "source": [
    "### Setup"
   ]
  },
  {
   "cell_type": "code",
   "execution_count": 35,
   "id": "a42df997-b3a6-42c2-b78c-258ffe1f2493",
   "metadata": {},
   "outputs": [],
   "source": [
    "opt = PathwayOptimizer(pathways)\n",
    "opt.build_variables()\n",
    "opt.set_objective(obj_weights)"
   ]
  },
  {
   "cell_type": "code",
   "execution_count": 36,
   "id": "c3529892-7309-497c-918c-6e91e72b8c7b",
   "metadata": {},
   "outputs": [],
   "source": [
    "# Baseline constraints\n",
    "opt.add_opportunity_constraints(1100000, \">=\", tag=\"min_opp\") #Must grow by 1.1 million people\n",
    "opt.add_mutual_exclusion(\"p2lo\", tag=\"mutal_exclusion\"); #Converting parking lots means you can't do other things in that area"
   ]
  },
  {
   "cell_type": "code",
   "execution_count": 37,
   "id": "da8ca190-e4d4-4676-9881-c1a9dd2f987d",
   "metadata": {},
   "outputs": [
    {
     "data": {
      "application/vnd.jupyter.widget-view+json": {
       "model_id": "d95cce1b12264710aeb3696d10ce1ef4",
       "version_major": 2,
       "version_minor": 1
      },
      "text/plain": [
       "Map(layers=[PolygonLayer(get_fill_color=<pyarrow.lib.FixedSizeListArray object at 0x000002D58BBCFE80>\n",
       "[\n",
       "  [\n",
       "  …"
      ]
     },
     "execution_count": 37,
     "metadata": {},
     "output_type": "execute_result"
    }
   ],
   "source": [
    "# Historical proportional constraints\n",
    "c21 = census_data_2021[[\"1\", \"6\", \"geometry\"]].copy() # 1: pop, 3: % change 16-21, 6:density\n",
    "c16 = census_data_2016[[\"1\", \"6\", \"geometry\"]].copy() # 1: pop, 3: % change 11-16, 6:density\n",
    "c16 = c16.rename(columns={\"1\": \"1_2016\", \"6\": \"6_2016\"})\n",
    "c16[\"1_2016\"] = c16[\"1_2016\"].astype(float)\n",
    "c16[\"6_2016\"] = c16[\"6_2016\"].astype(float)\n",
    "\n",
    "joined = sjoin_greatest_intersection(\n",
    "    c21.to_crs(proj_crs), \n",
    "    c16.to_crs(proj_crs),\n",
    "    [\"1_2016\", \"6_2016\"],\n",
    ").to_crs(\"EPSG:4326\")\n",
    "\n",
    "def scaler(col):\n",
    "    return (col - col.min()) / (col.max() - col.min())\n",
    "\n",
    "cmap = apply_continuous_cmap(\n",
    "    values=scaler(joined[\"1\"]-joined[\"1_2016\"].astype(float)),\n",
    "    cmap = Amp_18,\n",
    "    alpha = 1\n",
    ")\n",
    "\n",
    "polys = PolygonLayer.from_geopandas(\n",
    "    joined,\n",
    "    get_fill_color=cmap,\n",
    "    opacity=1,\n",
    "    # extruded = True,\n",
    "    # get_elevation=(joined[\"1\"]-joined[\"1_2016\"])\n",
    ")\n",
    "\n",
    "Map([polys], _height=800)"
   ]
  },
  {
   "cell_type": "code",
   "execution_count": 38,
   "id": "b625496e-9f6d-4515-9983-fad201a6ffdf",
   "metadata": {},
   "outputs": [],
   "source": [
    "joined[\"growth_limit\"] = np.maximum(joined[\"1\"] - joined[\"1_2016\"], 0) * (2050-2021)\n",
    "\n",
    "joined[\"area\"] = joined[\"geometry\"].to_crs(proj_crs).area\n",
    "joined[\"density_limit\"] = joined[\"area\"] * (joined[\"1\"]/joined[\"area\"]).max()\n",
    "\n",
    "joined[\"limit\"] = np.minimum(joined[\"growth_limit\"], joined[\"density_limit\"])\n",
    "\n",
    "opt.add_opportunity_constraints(joined[\"limit\"].to_list(), \"<=\", joined[\"geometry\"].to_list(), tag=\"historical\");"
   ]
  },
  {
   "cell_type": "markdown",
   "id": "875c4239-20dd-4343-bff3-db8e7fdc4952",
   "metadata": {},
   "source": [
    "### Debugging infeas"
   ]
  },
  {
   "cell_type": "code",
   "execution_count": 39,
   "id": "97622b68-8081-4613-a7d5-6a26bda6fafc",
   "metadata": {},
   "outputs": [
    {
     "data": {
      "text/plain": [
       "np.float64(788028.45)"
      ]
     },
     "execution_count": 39,
     "metadata": {},
     "output_type": "execute_result"
    }
   ],
   "source": [
    "# Spatial join to map each pathway to a joined geometry\n",
    "joined_with_hits = gpd.sjoin(joined, pathways[[\"opportunity\", \"geometry\"]], how=\"left\", predicate=\"contains\")\n",
    "\n",
    "# Group by joined index and aggregate opportunity\n",
    "agg = joined_with_hits.groupby(joined_with_hits.index).agg({\n",
    "    **{col: \"first\" for col in joined.columns},\n",
    "    \"opportunity\": \"sum\"\n",
    "})\n",
    "\n",
    "agg[\"room\"] = np.minimum(np.maximum(agg[\"limit\"],0), agg[\"opportunity\"])\n",
    "agg[\"room\"].sum()"
   ]
  },
  {
   "cell_type": "markdown",
   "id": "eca029cf-9988-4901-9cd8-21189bee118f",
   "metadata": {},
   "source": [
    "### Solve"
   ]
  },
  {
   "cell_type": "code",
   "execution_count": null,
   "id": "72e19382-9b84-40ce-8302-5b5334a88c21",
   "metadata": {},
   "outputs": [],
   "source": [
    "opt.solve(verbose=False)\n",
    "\n",
    "opt.get_solution_summary()"
   ]
  },
  {
   "cell_type": "code",
   "execution_count": null,
   "id": "19633f4a-ff98-4465-97b3-abee8fe758b4",
   "metadata": {},
   "outputs": [],
   "source": [
    "hp_pids = opt.get_selected_pids()\n",
    "\n",
    "cmap = {\n",
    "    \"bment\": palette.colors[3],\n",
    "    \"vsplit\": palette.colors[2],\n",
    "    \"adu\": palette.colors[1],\n",
    "    \"p2lo\": palette.colors[0]\n",
    "}\n",
    "\n",
    "lonboard_vis(hp_pids, pathways, cmap)"
   ]
  },
  {
   "cell_type": "code",
   "execution_count": null,
   "id": "030850b4-7a44-4ea0-b124-f302f03d0eae",
   "metadata": {},
   "outputs": [],
   "source": [
    "quick_vis(hp_pids, pathways, cmap)"
   ]
  },
  {
   "cell_type": "code",
   "execution_count": null,
   "id": "29036dd7-a83e-437b-a5dd-ddaf30190aed",
   "metadata": {},
   "outputs": [],
   "source": [
    "total_carbon = pathways[pathways[\"pid\"].isin(hp_pids)][\"cost_emb\"].sum()/1e9\n",
    "print(f\"Embodied Carbon: {total_carbon:.4} Mt\")"
   ]
  },
  {
   "cell_type": "code",
   "execution_count": null,
   "id": "e4e936de-f1b2-4d15-8c26-69f1a5bd440e",
   "metadata": {},
   "outputs": [],
   "source": [
    "with (results_dir / \"hp_pids.pkl\").open(\"wb\") as f:\n",
    "    pickle.dump(hp_pids, f)"
   ]
  },
  {
   "cell_type": "markdown",
   "id": "ee720c58-619b-4ff4-bee4-a1d9d839676e",
   "metadata": {},
   "source": [
    "## Historical Inversely Proportional\n",
    "In this scenario, we constrain the fastest-growing, most dense places tighter, and assume that the slowest growing, least_dense places have the most room to grow. In practice this looks like: \n",
    "\n",
    "1. Get the growth rates of every DA from 2016-2015 as a percentage of 2016 population\n",
    "2. Sort DAs by historic growth rate.\n",
    "3. Assign the Growth rate of `DA[n-i]` to `DA[i]` effectively assigning the highest growth rates to the slowest growing areas\n",
    "\n",
    "**Note that this one is done using % increase!**"
   ]
  },
  {
   "cell_type": "markdown",
   "id": "823628d8-1def-414d-8acd-69efd399dd20",
   "metadata": {},
   "source": [
    "### Setup"
   ]
  },
  {
   "cell_type": "code",
   "execution_count": 40,
   "id": "5fa0ccaf-13ad-4bb2-a35c-9626900bfe64",
   "metadata": {},
   "outputs": [],
   "source": [
    "opt = PathwayOptimizer(pathways)\n",
    "opt.build_variables()\n",
    "opt.set_objective(obj_weights)"
   ]
  },
  {
   "cell_type": "code",
   "execution_count": 41,
   "id": "9af151da-259a-4f3c-80a4-f5752fa12958",
   "metadata": {},
   "outputs": [],
   "source": [
    "# Baseline constraints\n",
    "opt.add_opportunity_constraints(1100000, \">=\", tag=\"min_opp\") #Must grow by 1.1 million people\n",
    "opt.add_mutual_exclusion(\"p2lo\", tag=\"mutal_exclusion\"); #Converting parking lots means you can't do other things in that area"
   ]
  },
  {
   "cell_type": "code",
   "execution_count": 42,
   "id": "25bfada6-2455-420c-b6ca-808b82ba5315",
   "metadata": {},
   "outputs": [],
   "source": [
    "# Load census data\n",
    "c21 = census_data_2021[[\"1\", \"6\", \"geometry\"]].copy() # 1: pop, 3: % change 16-21, 6:density\n",
    "c16 = census_data_2016[[\"1\", \"6\", \"geometry\"]].copy() # 1: pop, 3: % change 11-16, 6:density\n",
    "c16 = c16.rename(columns={\"1\": \"1_2016\", \"6\": \"6_2016\"})\n",
    "c16[\"1_2016\"] = c16[\"1_2016\"].astype(float)\n",
    "c16[\"6_2016\"] = c16[\"6_2016\"].astype(float)\n",
    "\n",
    "joined = sjoin_greatest_intersection(\n",
    "    c21.to_crs(proj_crs), \n",
    "    c16.to_crs(proj_crs),\n",
    "    [\"1_2016\", \"6_2016\"],\n",
    ").to_crs(\"EPSG:4326\")"
   ]
  },
  {
   "cell_type": "code",
   "execution_count": 43,
   "id": "48e7b401-fa6d-466c-b7e8-e51219b1429a",
   "metadata": {},
   "outputs": [],
   "source": [
    "# Get proportional change 2016->2021\n",
    "joined[\"historical_growth\"] = (joined[\"1\"] - joined[\"1_2016\"])/joined[\"1_2016\"]\n",
    "joined[\"historical_growth\"] = joined[\"historical_growth\"].fillna(0)\n",
    "joined = joined.sort_values(\"historical_growth\")\n",
    "\n",
    "# Convert to growth limit\n",
    "joined[\"growth_limit\"] = joined[\"historical_growth\"].values[::-1]*joined[\"1_2016\"] #reverse order\n",
    "joined[\"growth_limit\"] = np.maximum(joined[\"growth_limit\"], 0)*(2050-2021)\n",
    "\n",
    "# Get limit from max current density\n",
    "joined[\"area\"] = joined[\"geometry\"].to_crs(proj_crs).area\n",
    "joined[\"density_limit\"] = joined[\"area\"] * (joined[\"1\"]/joined[\"area\"]).max()\n",
    "joined[\"limit\"] = np.minimum(joined[\"growth_limit\"], joined[\"density_limit\"])\n",
    "\n",
    "# Add constraint\n",
    "opt.add_opportunity_constraints(joined[\"limit\"].to_list(), \"<=\", joined[\"geometry\"].to_list(), tag=\"historical\");"
   ]
  },
  {
   "cell_type": "markdown",
   "id": "3e466ab0-5896-4eb6-af22-741e5261e1ce",
   "metadata": {},
   "source": [
    "### Debugging Infeas"
   ]
  },
  {
   "cell_type": "code",
   "execution_count": 45,
   "id": "0ae7cf96-0360-4d2a-ace6-139631b104b1",
   "metadata": {},
   "outputs": [
    {
     "data": {
      "text/plain": [
       "np.float64(707165.8719607119)"
      ]
     },
     "execution_count": 45,
     "metadata": {},
     "output_type": "execute_result"
    }
   ],
   "source": [
    "# Spatial join to map each pathway to a joined geometry\n",
    "joined_with_hits = gpd.sjoin(joined, pathways[[\"opportunity\", \"geometry\"]], how=\"left\", predicate=\"contains\")\n",
    "\n",
    "# Group by joined index and aggregate opportunity\n",
    "agg = joined_with_hits.groupby(joined_with_hits.index).agg({\n",
    "    **{col: \"first\" for col in joined.columns},\n",
    "    \"opportunity\": \"sum\"\n",
    "})\n",
    "\n",
    "agg[\"room\"] = np.minimum(np.maximum(agg[\"limit\"],0), agg[\"opportunity\"])\n",
    "agg[\"room\"].sum()"
   ]
  },
  {
   "cell_type": "markdown",
   "id": "de43f192-fce0-47e9-a4ad-ed75fe9c4410",
   "metadata": {},
   "source": [
    "### Solve"
   ]
  },
  {
   "cell_type": "code",
   "execution_count": 67,
   "id": "f7e77c13-6a83-4dcb-b180-778a0ed64305",
   "metadata": {},
   "outputs": [
    {
     "name": "stdout",
     "output_type": "stream",
     "text": [
      "Gurobi Optimizer version 12.0.1 build v12.0.1rc0 (win64 - Windows 11.0 (26100.2))\n",
      "\n",
      "CPU model: AMD Ryzen 5 5600G with Radeon Graphics, instruction set [SSE2|AVX|AVX2]\n",
      "Thread count: 6 physical cores, 12 logical processors, using up to 12 threads\n",
      "\n",
      "Academic license 2644692 - for non-commercial use only - registered to je___@mail.utoronto.ca\n",
      "Optimize a model with 6591 rows, 822773 columns and 1651124 nonzeros\n",
      "Model fingerprint: 0x6502cb8d\n",
      "Variable types: 0 continuous, 822773 integer (822773 binary)\n",
      "Coefficient statistics:\n",
      "  Matrix range     [1e+00, 5e+03]\n",
      "  Objective range  [3e+03, 7e+07]\n",
      "  Bounds range     [1e+00, 1e+00]\n",
      "  RHS range        [1e+00, 1e+06]\n",
      "Presolve removed 4165 rows and 624387 columns\n",
      "Presolve time: 0.56s\n",
      "\n",
      "Explored 0 nodes (0 simplex iterations) in 1.11 seconds (0.82 work units)\n",
      "Thread count was 1 (of 12 available processors)\n",
      "\n",
      "Solution count 0\n",
      "\n",
      "Model is infeasible\n",
      "Best objective -, best bound -, gap -\n"
     ]
    }
   ],
   "source": [
    "opt.model.optimize()"
   ]
  },
  {
   "cell_type": "code",
   "execution_count": null,
   "id": "3028e46e-f1f3-4cc2-96b7-639a349cbe59",
   "metadata": {},
   "outputs": [],
   "source": [
    "opt.solve()\n",
    "\n",
    "opt.get_solution_summary()"
   ]
  },
  {
   "cell_type": "code",
   "execution_count": null,
   "id": "221e53af-70a3-4b8f-92e4-c1913a85e863",
   "metadata": {},
   "outputs": [],
   "source": [
    "hip_pids = opt.get_selected_pids()\n",
    "\n",
    "cmap = {\n",
    "    \"bment\": palette.colors[3],\n",
    "    \"vsplit\": palette.colors[2],\n",
    "    \"adu\": palette.colors[1],\n",
    "    \"p2lo\": palette.colors[0]\n",
    "}\n",
    "\n",
    "lonboard_vis(hip_pids, pathways, cmap)"
   ]
  },
  {
   "cell_type": "code",
   "execution_count": null,
   "id": "cb779bd7-88ee-4596-a8f2-edf965dfe879",
   "metadata": {},
   "outputs": [],
   "source": [
    "quick_vis(hip_pids, pathways, cmap)"
   ]
  },
  {
   "cell_type": "code",
   "execution_count": null,
   "id": "4dedaeae-44cc-4be6-a528-8860626ce11e",
   "metadata": {},
   "outputs": [],
   "source": [
    "total_carbon = pathways[pathways[\"pid\"].isin(hip_pids)][\"cost_emb\"].sum()/1e9\n",
    "print(f\"Embodied Carbon: {total_carbon:.4} Mt\")"
   ]
  },
  {
   "cell_type": "code",
   "execution_count": null,
   "id": "9023019b-135b-4e4d-b1cb-ce6600794197",
   "metadata": {},
   "outputs": [],
   "source": [
    "with (results_dir / \"hip_pids.pkl\").open(\"wb\") as f:\n",
    "    pickle.dump(hip_pids, f)"
   ]
  },
  {
   "cell_type": "markdown",
   "id": "a9fb47ad-729c-4eac-8b45-4b49562d130d",
   "metadata": {},
   "source": [
    "## Historical Median\n",
    "Every region can increase population by the median of strictly positively increasing areas from 2016->2021"
   ]
  },
  {
   "cell_type": "markdown",
   "id": "f9579fd6-c622-4b4c-8ffa-d11cf5453787",
   "metadata": {},
   "source": [
    "### Setup"
   ]
  },
  {
   "cell_type": "code",
   "execution_count": 12,
   "id": "e5c073f7-b11c-4fc0-a90c-ec67d74f2791",
   "metadata": {},
   "outputs": [],
   "source": [
    "opt = PathwayOptimizer(pathways)\n",
    "opt.build_variables()\n",
    "opt.set_objective(obj_weights)"
   ]
  },
  {
   "cell_type": "code",
   "execution_count": 13,
   "id": "41490e75-35ba-48ee-817b-ef21abdf2a10",
   "metadata": {},
   "outputs": [],
   "source": [
    "# Baseline constraints\n",
    "opt.add_opportunity_constraints(1100000, \">=\", tag=\"min_opp\") #Must grow by 1.1 million people\n",
    "opt.add_mutual_exclusion(\"p2lo\", tag=\"mutal_exclusion\"); #Converting parking lots means you can't do other things in that area"
   ]
  },
  {
   "cell_type": "code",
   "execution_count": 14,
   "id": "10c65c14-8170-43d7-8604-f70aa366cc7d",
   "metadata": {},
   "outputs": [],
   "source": [
    "# Historical proportional constraints\n",
    "c21 = census_data_2021[[\"1\", \"6\", \"geometry\"]].copy() # 1: pop, 3: % change 16-21, 6:density\n",
    "c16 = census_data_2016[[\"1\", \"6\", \"geometry\"]].copy() # 1: pop, 3: % change 11-16, 6:density\n",
    "c16 = c16.rename(columns={\"1\": \"1_2016\", \"6\": \"6_2016\"})\n",
    "c16[\"1_2016\"] = c16[\"1_2016\"].astype(float)\n",
    "c16[\"6_2016\"] = c16[\"6_2016\"].astype(float)\n",
    "\n",
    "joined = sjoin_greatest_intersection(\n",
    "    c21.to_crs(proj_crs), \n",
    "    c16.to_crs(proj_crs),\n",
    "    [\"1_2016\", \"6_2016\"],\n",
    ").to_crs(\"EPSG:4326\")"
   ]
  },
  {
   "cell_type": "code",
   "execution_count": 15,
   "id": "07bf1894-7614-4b16-a98d-af4d01852de4",
   "metadata": {},
   "outputs": [
    {
     "data": {
      "text/plain": [
       "Text(0.5, 1.0, 'Histogram of Absolute Growth in Census DAs')"
      ]
     },
     "execution_count": 15,
     "metadata": {},
     "output_type": "execute_result"
    },
    {
     "data": {
      "image/png": "[encoded data removed]",
      "text/plain": [
       "<Figure size 640x480 with 1 Axes>"
      ]
     },
     "metadata": {},
     "output_type": "display_data"
    }
   ],
   "source": [
    "diff = joined[\"1\"] - joined[\"1_2016\"]\n",
    "filtered = diff[(diff - diff.mean()).abs() <= 2 * diff.std()]\n",
    "ax = filtered.plot.hist(bins=50)\n",
    "\n",
    "ax.set_xlabel(\"Absolute Growth\")\n",
    "ax.set_ylabel(\"Count\")\n",
    "ax.set_title(\"Histogram of Absolute Growth in Census DAs\")"
   ]
  },
  {
   "cell_type": "code",
   "execution_count": 16,
   "id": "6789f02d-9cf3-42f7-b918-a8bd6a56148e",
   "metadata": {},
   "outputs": [
    {
     "name": "stdout",
     "output_type": "stream",
     "text": [
      "22.0\n"
     ]
    }
   ],
   "source": [
    "diff = joined[\"1\"] - joined[\"1_2016\"]\n",
    "med_positive = diff[diff > 0].median()\n",
    "print(med_positive)\n",
    "\n",
    "joined[\"limit\"] = med_positive * (2050-2021)\n",
    "opt.add_opportunity_constraints(joined[\"limit\"].to_list(), \"<=\", joined[\"geometry\"].to_list(), tag=\"historical\");"
   ]
  },
  {
   "cell_type": "code",
   "execution_count": 17,
   "id": "c313a112-dea6-49d6-a1ee-f1e955015dce",
   "metadata": {},
   "outputs": [
    {
     "name": "stdout",
     "output_type": "stream",
     "text": [
      "Gurobi Model Debug Info\n",
      "- Variables: 843297\n",
      "- Constraints: 6235\n",
      "- Objective set: True\n",
      "- Model status: 1\n",
      "\n",
      "Objective Weights:\n",
      "  cost_emb: 1.0\n",
      "\n",
      "Variables (first 20):\n",
      "  x_0: not solved\n",
      "  x_1: not solved\n",
      "  x_2: not solved\n",
      "  x_3: not solved\n",
      "  x_4: not solved\n",
      "  x_5: not solved\n",
      "  x_6: not solved\n",
      "  x_7: not solved\n",
      "  x_8: not solved\n",
      "  x_9: not solved\n",
      "  x_10: not solved\n",
      "  x_11: not solved\n",
      "  x_12: not solved\n",
      "  x_13: not solved\n",
      "  x_14: not solved\n",
      "  x_15: not solved\n",
      "  x_16: not solved\n",
      "  x_17: not solved\n",
      "  x_18: not solved\n",
      "  x_19: not solved\n",
      "  ... (truncated)\n",
      "\n",
      "Constraint Tags:\n",
      "  [min_opp] 1 constraints\n",
      "  [mutal_exclusion] 2433 constraints\n",
      "  [historical] 3801 constraints\n"
     ]
    }
   ],
   "source": [
    "opt.debug_model(verbose=True)"
   ]
  },
  {
   "cell_type": "markdown",
   "id": "180f113b-cf01-4286-9628-2d18668c708f",
   "metadata": {},
   "source": [
    "### Debugging infeas"
   ]
  },
  {
   "cell_type": "code",
   "execution_count": 52,
   "id": "28998752-3852-443c-8cc6-3ceb057bae5e",
   "metadata": {},
   "outputs": [
    {
     "data": {
      "text/plain": [
       "np.float64(1826863.2000000002)"
      ]
     },
     "execution_count": 52,
     "metadata": {},
     "output_type": "execute_result"
    }
   ],
   "source": [
    "# Spatial join to map each pathway to a joined geometry\n",
    "joined_with_hits = gpd.sjoin(joined, pathways[[\"opportunity\", \"geometry\"]], how=\"left\", predicate=\"contains\")\n",
    "\n",
    "# Group by joined index and aggregate opportunity\n",
    "agg = joined_with_hits.groupby(joined_with_hits.index).agg({\n",
    "    **{col: \"first\" for col in joined.columns},\n",
    "    \"opportunity\": \"sum\"\n",
    "})\n",
    "\n",
    "agg[\"room\"] = np.minimum(np.maximum(agg[\"limit\"],0), agg[\"opportunity\"])\n",
    "agg[\"room\"].sum()"
   ]
  },
  {
   "cell_type": "markdown",
   "id": "43bdb945-5cc5-436e-b3fb-5455d4e7719e",
   "metadata": {},
   "source": [
    "### Solve"
   ]
  },
  {
   "cell_type": "code",
   "execution_count": 18,
   "id": "4a29c9e2-7368-40de-b980-7590bd459e63",
   "metadata": {},
   "outputs": [
    {
     "name": "stdout",
     "output_type": "stream",
     "text": [
      "Optimization Summary\n",
      "  Objective Value   : 2276369456.16\n",
      "  Total Opportunity: 1100001.00\n",
      "  Solve Time        : 14.744 sec\n",
      "  Selected Pathways : 173868\n"
     ]
    },
    {
     "data": {
      "text/plain": [
       "{'objective_value': 2276369456.157661,\n",
       " 'cost_column_sums': {'cost_emb': np.float64(2276369456.1576586),\n",
       "  'cost_bus': np.float64(33585369.77999379),\n",
       "  'cost_train': np.float64(331123741.9353861),\n",
       "  'cost_transit': np.float64(695832853.6507661)},\n",
       " 'total_opportunity': np.float64(1100001.0),\n",
       " 'solve_time': 14.74399995803833,\n",
       " 'selected_count': 173868}"
      ]
     },
     "execution_count": 18,
     "metadata": {},
     "output_type": "execute_result"
    }
   ],
   "source": [
    "opt.solve()\n",
    "opt.get_solution_summary()"
   ]
  },
  {
   "cell_type": "code",
   "execution_count": 19,
   "id": "70ef6bd3-267d-4f2a-9011-e2cddca2f952",
   "metadata": {},
   "outputs": [
    {
     "data": {
      "application/vnd.jupyter.widget-view+json": {
       "model_id": "36df9e7b4c6e411ebb3007cd6f251945",
       "version_major": 2,
       "version_minor": 1
      },
      "text/plain": [
       "Map(basemap_style=<CartoBasemap.DarkMatterNoLabels: 'https://basemaps.cartocdn.com/gl/dark-matter-nolabels-gl-…"
      ]
     },
     "execution_count": 19,
     "metadata": {},
     "output_type": "execute_result"
    }
   ],
   "source": [
    "hmed_pids = opt.get_selected_pids()\n",
    "\n",
    "cmap = {\n",
    "    \"bment\": palette.colors[3],\n",
    "    \"vsplit\": palette.colors[2],\n",
    "    \"adu\": palette.colors[1],\n",
    "    \"p2lo\": palette.colors[0]\n",
    "}\n",
    "\n",
    "lonboard_vis(hmed_pids,\n",
    "             pathways,\n",
    "             cmap,\n",
    "             sample_frac=0.2, \n",
    "             layer_kwargs={\n",
    "                 \"opacity\":0.2,\n",
    "                 \"radius_scale\": 1,\n",
    "                 # \"radius_max_pixels\": 2,\n",
    "                 # \"radius_min_pixels\": 2,\n",
    "             },\n",
    "             map_kwargs={\n",
    "                 \"_height\":800\n",
    "             }\n",
    "            )"
   ]
  },
  {
   "cell_type": "code",
   "execution_count": 20,
   "id": "60fe7144-dc5a-4e38-b9e4-f1553adb1ddc",
   "metadata": {},
   "outputs": [
    {
     "data": {
      "image/png": "[encoded data removed]",
      "text/plain": [
       "<Figure size 1575x450 with 3 Axes>"
      ]
     },
     "metadata": {},
     "output_type": "display_data"
    }
   ],
   "source": [
    "quick_vis_tri(hmed_pids, pathways, cmap)"
   ]
  },
  {
   "cell_type": "code",
   "execution_count": 21,
   "id": "9be2cf0c-15a2-4c27-a5bc-707446a37d5e",
   "metadata": {},
   "outputs": [
    {
     "name": "stdout",
     "output_type": "stream",
     "text": [
      "Embodied Carbon: 2.276 Mt\n"
     ]
    }
   ],
   "source": [
    "total_carbon = pathways[pathways[\"pid\"].isin(hmed_pids)][\"cost_emb\"].sum()/1e9\n",
    "print(f\"Embodied Carbon: {total_carbon:.4} Mt\")"
   ]
  },
  {
   "cell_type": "code",
   "execution_count": 22,
   "id": "4c3df6e3-6127-4969-9311-b2c1e89b5b20",
   "metadata": {},
   "outputs": [],
   "source": [
    "with (results_dir / \"hmed_pids.pkl\").open(\"wb\") as f:\n",
    "    pickle.dump(hmed_pids, f)"
   ]
  },
  {
   "cell_type": "markdown",
   "id": "54aceaaa-4cf4-466f-bf6b-5a3fba557724",
   "metadata": {},
   "source": [
    "## Smoothed\n",
    "Every region can increase population by the median of strictly positively increasing areas from 2016->2021"
   ]
  },
  {
   "cell_type": "markdown",
   "id": "308e9b05-3ef6-48d1-adf7-28e28d02b7df",
   "metadata": {},
   "source": [
    "### Setup"
   ]
  },
  {
   "cell_type": "code",
   "execution_count": 11,
   "id": "2ff3688b-0328-46d0-959f-16a3459c1752",
   "metadata": {},
   "outputs": [],
   "source": [
    "opt = PathwayOptimizer(pathways)\n",
    "opt.build_variables()\n",
    "opt.set_objective(obj_weights)"
   ]
  },
  {
   "cell_type": "code",
   "execution_count": 12,
   "id": "6b5b5b5b-ba14-451b-a563-fd3c6d4938f0",
   "metadata": {},
   "outputs": [],
   "source": [
    "# Baseline constraints\n",
    "opt.add_opportunity_constraints(1100000, \">=\", tag=\"min_opp\") #Must grow by 1.1 million people\n",
    "opt.add_mutual_exclusion(\"p2lo\", tag=\"mutal_exclusion\"); #Converting parking lots means you can't do other things in that area"
   ]
  },
  {
   "cell_type": "code",
   "execution_count": 13,
   "id": "b6abc173-a3fa-4331-b275-9ac4e9540682",
   "metadata": {},
   "outputs": [],
   "source": [
    "MAX_DIFF_CHANGE = 2"
   ]
  },
  {
   "cell_type": "code",
   "execution_count": 14,
   "id": "0e645316-10f3-476b-945a-77812d06c8fd",
   "metadata": {},
   "outputs": [],
   "source": [
    "# Get census data\n",
    "c21 = census_data_2021[[\"1\", \"geometry\"]].copy() # 1: pop, 6:density\n",
    "\n",
    "# Find which areas are adjacent\n",
    "grph = SpatialGraph.create_from_geoseries(c21[\"geometry\"])\n",
    "\n",
    "unique_pairs = set()\n",
    "for node, neighbors in grph.adj_list.items():\n",
    "    for neighbor in neighbors:\n",
    "        pair = tuple(sorted((node, neighbor)))\n",
    "        unique_pairs.add(pair)\n",
    "\n",
    "unique_pairs = list(unique_pairs)\n",
    "\n",
    "# Construct input data\n",
    "geom_pairs = []\n",
    "limits = []\n",
    "for ida, idb in unique_pairs:\n",
    "    geom_pairs.append((c21.at[ida, \"geometry\"], c21.at[idb, \"geometry\"]))\n",
    "    pop_diff = c21.at[ida, \"1\"] - c21.at[idb, \"1\"]\n",
    "    limit = MAX_DIFF_CHANGE * abs(pop_diff) - pop_diff\n",
    "    limits.append(limit)"
   ]
  },
  {
   "cell_type": "code",
   "execution_count": 15,
   "id": "dcc3441e-036c-4d06-99e5-1d4cb78a8eb1",
   "metadata": {},
   "outputs": [
    {
     "data": {
      "text/plain": [
       "(<MConstr (12367,)>, <MConstr (12367,)>)"
      ]
     },
     "execution_count": 15,
     "metadata": {},
     "output_type": "execute_result"
    }
   ],
   "source": [
    "opt.add_zone_difference_constraints(geom_pairs, \"<=\", limits, tag=\"smoothing\")"
   ]
  },
  {
   "cell_type": "code",
   "execution_count": 16,
   "id": "283dae29-1067-4f3a-a21a-b3336d0cc7a7",
   "metadata": {},
   "outputs": [
    {
     "name": "stdout",
     "output_type": "stream",
     "text": [
      "Gurobi Model Debug Info\n",
      "- Variables: 843297\n",
      "- Constraints: 27168\n",
      "- Objective set: True\n",
      "- Model status: 1\n",
      "\n",
      "Objective Weights:\n",
      "  cost_emb: 1.0\n",
      "\n",
      "Variables (first 20):\n",
      "  x_0: not solved\n",
      "  x_1: not solved\n",
      "  x_2: not solved\n",
      "  x_3: not solved\n",
      "  x_4: not solved\n",
      "  x_5: not solved\n",
      "  x_6: not solved\n",
      "  x_7: not solved\n",
      "  x_8: not solved\n",
      "  x_9: not solved\n",
      "  x_10: not solved\n",
      "  x_11: not solved\n",
      "  x_12: not solved\n",
      "  x_13: not solved\n",
      "  x_14: not solved\n",
      "  x_15: not solved\n",
      "  x_16: not solved\n",
      "  x_17: not solved\n",
      "  x_18: not solved\n",
      "  x_19: not solved\n",
      "  ... (truncated)\n",
      "\n",
      "Constraint Tags:\n",
      "  [min_opp] 1 constraints\n",
      "  [mutal_exclusion] 2433 constraints\n",
      "  [smoothing_1] 12367 constraints\n",
      "  [smoothing_2] 12367 constraints\n"
     ]
    }
   ],
   "source": [
    "opt.debug_model(verbose=True)"
   ]
  },
  {
   "cell_type": "markdown",
   "id": "1df311ea-a637-4c4c-8b72-439868eb4ec1",
   "metadata": {},
   "source": [
    "### Solve"
   ]
  },
  {
   "cell_type": "code",
   "execution_count": 17,
   "id": "17f43372-cc9a-465e-92b9-4eb12d709ee0",
   "metadata": {},
   "outputs": [
    {
     "name": "stdout",
     "output_type": "stream",
     "text": [
      "Set parameter OutputFlag to value 1\n",
      "Gurobi Optimizer version 12.0.1 build v12.0.1rc0 (win64 - Windows 11.0 (26100.2))\n",
      "\n",
      "CPU model: AMD Ryzen 5 5600G with Radeon Graphics, instruction set [SSE2|AVX|AVX2]\n",
      "Thread count: 6 physical cores, 12 logical processors, using up to 12 threads\n",
      "\n",
      "Academic license 2644692 - for non-commercial use only - registered to je___@mail.utoronto.ca\n",
      "Optimize a model with 27168 rows, 843297 columns and 12560811 nonzeros\n",
      "Model fingerprint: 0x8dffe5e1\n",
      "Variable types: 0 continuous, 843297 integer (843297 binary)\n",
      "Coefficient statistics:\n",
      "  Matrix range     [1e+00, 5e+03]\n",
      "  Objective range  [3e+03, 7e+07]\n",
      "  Bounds range     [1e+00, 1e+00]\n",
      "  RHS range        [1e+00, 1e+06]\n",
      "Presolve removed 9197 rows and 261640 columns (presolve time = 5s)...\n",
      "Presolve removed 9431 rows and 260232 columns\n",
      "Presolve time: 8.89s\n",
      "Presolved: 17737 rows, 583065 columns, 736191 nonzeros\n",
      "Variable types: 0 continuous, 583065 integer (572878 binary)\n",
      "Deterministic concurrent LP optimizer: primal simplex, dual simplex, and barrier\n",
      "Showing barrier log only...\n",
      "\n",
      "Root barrier log...\n",
      "\n",
      "Ordering time: 0.02s\n",
      "\n",
      "Barrier statistics:\n",
      " AA' NZ     : 1.491e+05\n",
      " Factor NZ  : 3.938e+05 (roughly 70 MB of memory)\n",
      " Factor Ops : 1.702e+07 (less than 1 second per iteration)\n",
      " Threads    : 3\n",
      "\n",
      "                  Objective                Residual\n",
      "Iter       Primal          Dual         Primal    Dual     Compl     Time\n",
      "   0   8.91405209e+12 -2.13543420e+12  1.84e+05 9.39e+05  4.73e+09    11s\n",
      "   1   2.68077049e+12 -2.29980281e+12  5.53e+04 6.51e+05  1.44e+09    11s\n",
      "   2   2.18461831e+11 -2.01372736e+12  4.40e+03 7.45e-09  1.21e+08    11s\n",
      "   3   4.13160220e+10 -1.02349515e+12  7.43e+02 9.31e-09  2.21e+07    12s\n",
      "   4   1.50516732e+10 -6.07029596e+11  2.07e+02 9.31e-09  6.77e+06    12s\n",
      "   5   9.57040642e+09 -4.13730565e+11  9.91e+01 4.47e-08  3.27e+06    12s\n",
      "   6   6.55286204e+09 -2.55847090e+11  4.01e+01 3.35e-08  1.42e+06    12s\n",
      "   7   4.85126158e+09 -1.06278424e+11  7.26e+00 8.38e-08  4.18e+05    12s\n",
      "   8   4.37395755e+09 -4.34421455e+10  7.66e-01 3.73e-08  1.59e+05    12s\n",
      "   9   4.24107981e+09 -2.58459389e+10  4.61e-01 2.51e-08  9.93e+04    12s\n",
      "  10   4.07109997e+09 -1.78966878e+10  4.00e-01 1.77e-08  7.24e+04    12s\n",
      "  11   3.82064198e+09 -1.49673837e+10  3.32e-01 1.54e-08  6.18e+04    12s\n",
      "  12   3.77119622e+09 -1.40448169e+10  3.20e-01 1.44e-08  5.86e+04    12s\n",
      "  13   3.71279085e+09 -1.26407348e+10  3.07e-01 1.30e-08  5.38e+04    12s\n",
      "\n",
      "Barrier performed 13 iterations in 11.88 seconds (11.64 work units)\n",
      "Barrier solve interrupted - model solved by another algorithm\n",
      "\n",
      "Concurrent spin time: 0.01s\n",
      "\n",
      "Solved with dual simplex\n",
      "\n",
      "Root simplex log...\n",
      "\n",
      "Iteration    Objective       Primal Inf.    Dual Inf.      Time\n",
      "   10517    2.4123521e+09   0.000000e+00   0.000000e+00     12s\n",
      "Extra simplex iterations after uncrush: 6\n",
      "\n",
      "Root relaxation: objective 2.412352e+09, 10517 iterations, 1.42 seconds (0.83 work units)\n",
      "\n",
      "    Nodes    |    Current Node    |     Objective Bounds      |     Work\n",
      " Expl Unexpl |  Obj  Depth IntInf | Incumbent    BestBd   Gap | It/Node Time\n",
      "\n",
      "     0     0 2.4124e+09    0 2030          - 2.4124e+09      -     -   13s\n",
      "     0     0 2.4124e+09    0 2002          - 2.4124e+09      -     -   13s\n",
      "H    0     0                    6.969341e+09 2.4124e+09  65.4%     -   17s\n",
      "     0     0 2.4126e+09    0 1990 6.9693e+09 2.4126e+09  65.4%     -   18s\n",
      "H    0     0                    6.941205e+09 2.4126e+09  65.2%     -   18s\n",
      "     0     0 2.4127e+09    0 2060 6.9412e+09 2.4127e+09  65.2%     -   21s\n",
      "     0     0 2.4127e+09    0 2147 6.9412e+09 2.4127e+09  65.2%     -   22s\n",
      "     0     0 2.4127e+09    0 2185 6.9412e+09 2.4127e+09  65.2%     -   22s\n",
      "     0     0 2.4127e+09    0 2239 6.9412e+09 2.4127e+09  65.2%     -   22s\n",
      "     0     0 2.4127e+09    0 2285 6.9412e+09 2.4127e+09  65.2%     -   23s\n",
      "     0     0 2.4127e+09    0 2320 6.9412e+09 2.4127e+09  65.2%     -   23s\n",
      "     0     0 2.4127e+09    0 2384 6.9412e+09 2.4127e+09  65.2%     -   24s\n",
      "     0     0 2.4127e+09    0 2408 6.9412e+09 2.4127e+09  65.2%     -   24s\n",
      "     0     0 2.4128e+09    0 2435 6.9412e+09 2.4128e+09  65.2%     -   24s\n",
      "     0     0 2.4128e+09    0 2403 6.9412e+09 2.4128e+09  65.2%     -   25s\n",
      "     0     0 2.4128e+09    0 2447 6.9412e+09 2.4128e+09  65.2%     -   25s\n",
      "     0     0 2.4128e+09    0 2469 6.9412e+09 2.4128e+09  65.2%     -   26s\n",
      "     0     0 2.4128e+09    0 2477 6.9412e+09 2.4128e+09  65.2%     -   26s\n",
      "     0     0 2.4128e+09    0 2487 6.9412e+09 2.4128e+09  65.2%     -   26s\n",
      "     0     0 2.4128e+09    0 2485 6.9412e+09 2.4128e+09  65.2%     -   27s\n",
      "     0     0 2.4129e+09    0 2617 6.9412e+09 2.4129e+09  65.2%     -   30s\n",
      "H    0     0                    6.935423e+09 2.4129e+09  65.2%     -   31s\n",
      "H    0     0                    6.368100e+09 2.4129e+09  62.1%     -   31s\n",
      "H    0     0                    6.368032e+09 2.4129e+09  62.1%     -   32s\n",
      "H    0     0                    6.367762e+09 2.4129e+09  62.1%     -   32s\n",
      "H    0     0                    6.366702e+09 2.4129e+09  62.1%     -   32s\n",
      "H    0     0                    6.366629e+09 2.4129e+09  62.1%     -   32s\n",
      "H    0     0                    6.356476e+09 2.4129e+09  62.0%     -   34s\n",
      "     0     0 2.4130e+09    0 2660 6.3565e+09 2.4130e+09  62.0%     -   34s\n",
      "     0     0 2.4130e+09    0 2721 6.3565e+09 2.4130e+09  62.0%     -   34s\n",
      "     0     0 2.4130e+09    0 2818 6.3565e+09 2.4130e+09  62.0%     -   35s\n",
      "     0     0 2.4130e+09    0 2814 6.3565e+09 2.4130e+09  62.0%     -   35s\n",
      "     0     0 2.4130e+09    0 2876 6.3565e+09 2.4130e+09  62.0%     -   36s\n",
      "     0     0 2.4130e+09    0 2896 6.3565e+09 2.4130e+09  62.0%     -   36s\n",
      "     0     0 2.4130e+09    0 2967 6.3565e+09 2.4130e+09  62.0%     -   37s\n",
      "     0     0 2.4130e+09    0 2886 6.3565e+09 2.4130e+09  62.0%     -   37s\n",
      "     0     0 2.4130e+09    0 2962 6.3565e+09 2.4130e+09  62.0%     -   37s\n",
      "     0     0 2.4130e+09    0 2997 6.3565e+09 2.4130e+09  62.0%     -   38s\n",
      "     0     0 2.4130e+09    0 2990 6.3565e+09 2.4130e+09  62.0%     -   38s\n",
      "     0     0 2.4131e+09    0 2803 6.3565e+09 2.4131e+09  62.0%     -   42s\n",
      "     0     0 2.4131e+09    0 2929 6.3565e+09 2.4131e+09  62.0%     -   49s\n",
      "     0     0 2.4131e+09    0 2854 6.3565e+09 2.4131e+09  62.0%     -   49s\n",
      "     0     0 2.4131e+09    0 2921 6.3565e+09 2.4131e+09  62.0%     -   50s\n",
      "     0     0 2.4131e+09    0 2942 6.3565e+09 2.4131e+09  62.0%     -   50s\n",
      "     0     0 2.4131e+09    0 2926 6.3565e+09 2.4131e+09  62.0%     -   51s\n",
      "     0     0 2.4131e+09    0 3030 6.3565e+09 2.4131e+09  62.0%     -   51s\n",
      "     0     0 2.4131e+09    0 3061 6.3565e+09 2.4131e+09  62.0%     -   51s\n",
      "     0     0 2.4131e+09    0 3252 6.3565e+09 2.4131e+09  62.0%     -   55s\n",
      "     0     0 2.4131e+09    0 3061 6.3565e+09 2.4131e+09  62.0%     -   57s\n",
      "H    0     0                    6.024690e+09 2.4131e+09  59.9%     -   69s\n",
      "H    0     0                    6.021180e+09 2.4131e+09  59.9%     -   69s\n",
      "H    0     0                    6.019627e+09 2.4131e+09  59.9%     -   70s\n",
      "H    0     2                    5.609364e+09 2.4131e+09  57.0%     -   73s\n",
      "     0     2 2.4131e+09    0 3044 5.6094e+09 2.4131e+09  57.0%     -   73s\n",
      "     3     8 2.4131e+09    2 2959 5.6094e+09 2.4131e+09  57.0%   323   75s\n",
      "    24    38 2.4131e+09    6 3103 5.6094e+09 2.4131e+09  57.0%   597   81s\n",
      "H   26    38                    5.553359e+09 2.4131e+09  56.5%   552   81s\n",
      "H   33    38                    5.553267e+09 2.4131e+09  56.5%   473   81s\n",
      "    43    68 2.4131e+09    9 3026 5.5533e+09 2.4131e+09  56.5%   434   85s\n",
      "H   68    74                    5.523490e+09 2.4131e+09  56.3%   289   87s\n",
      "H   69    74                    5.461349e+09 2.4131e+09  55.8%   286   87s\n",
      "    79   103 2.4131e+09   13 2898 5.4613e+09 2.4131e+09  55.8%   257   91s\n",
      "H  108   124                    5.363222e+09 2.4131e+09  55.0%   201   94s\n",
      "   123   169 2.4132e+09   20 2808 5.3632e+09 2.4131e+09  55.0%   184   96s\n",
      "H  180   197                    5.348578e+09 2.4131e+09  54.9%   128   99s\n",
      "   196   273 2.4132e+09   34 2768 5.3486e+09 2.4131e+09  54.9%   117  102s\n",
      "H  272   279                    5.342692e+09 2.4131e+09  54.8%  85.4  106s\n",
      "H  273   279                    5.342640e+09 2.4131e+09  54.8%  85.1  106s\n",
      "H  274   279                    5.342638e+09 2.4131e+09  54.8%  84.8  106s\n",
      "H  278   285                    4.834738e+09 2.4131e+09  50.1%  83.6  113s\n",
      "H  281   285                    4.825670e+09 2.4131e+09  50.0%  82.8  113s\n",
      "   284   368 2.4132e+09   44 2746 4.8257e+09 2.4131e+09  50.0%  81.9  117s\n",
      "   367   481 2.4132e+09   52 2740 4.8257e+09 2.4131e+09  50.0%  64.2  122s\n",
      "   480   487 2.4132e+09   66 2733 4.8257e+09 2.4131e+09  50.0%  49.9  127s\n",
      "   486   493 2.4132e+09   67 2732 4.8257e+09 2.4131e+09  50.0%  49.3  143s\n",
      "   492   499 2.4132e+09   67 2733 4.8257e+09 2.4131e+09  50.0%  48.7  172s\n",
      "   498   505 2.4132e+09   68 2723 4.8257e+09 2.4131e+09  50.0%  48.1  195s\n",
      "   504   511 2.4132e+09   68 2724 4.8257e+09 2.4131e+09  50.0%  47.6  215s\n",
      "   510   517 2.4132e+09   69 2722 4.8257e+09 2.4131e+09  50.0%  47.1  224s\n",
      "H  512   517                    2.421965e+09 2.4131e+09  0.37%  46.9  224s\n",
      "H  516   583                    2.421934e+09 2.4131e+09  0.36%  46.5  231s\n",
      "   582   807 2.4132e+09   79 2747 2.4219e+09 2.4131e+09  0.36%  41.5  242s\n",
      "   806  1062 2.4132e+09  104 2714 2.4219e+09 2.4131e+09  0.36%  30.9  254s\n",
      "  1061  1321 2.4132e+09  134 2669 2.4219e+09 2.4131e+09  0.36%  24.1  270s\n",
      "H 1103  1321                    2.421310e+09 2.4131e+09  0.34%  23.3  270s\n",
      "H 1146  1321                    2.419902e+09 2.4131e+09  0.28%  22.5  270s\n",
      "H 1276  1321                    2.419860e+09 2.4131e+09  0.28%  20.5  270s\n",
      "  1320  1628 2.4132e+09  159 2628 2.4199e+09 2.4131e+09  0.28%  20.0  285s\n",
      "  1627  1946 2.4132e+09  188 2603 2.4199e+09 2.4131e+09  0.28%  16.7  300s\n",
      "  1945  2264 2.4132e+09  222 2597 2.4199e+09 2.4131e+09  0.28%  14.4  316s\n",
      "H 2263  2270                    2.418681e+09 2.4131e+09  0.23%  12.6  331s\n",
      "H 2265  2270                    2.418545e+09 2.4131e+09  0.22%  12.6  331s\n",
      "  2269  2585 2.4132e+09  255 2574 2.4185e+09 2.4131e+09  0.22%  12.6  346s\n",
      "  2584  2903 2.4132e+09  289 2540 2.4185e+09 2.4131e+09  0.22%  11.4  364s\n",
      "  2902  3221 2.4132e+09  323 2460 2.4185e+09 2.4131e+09  0.22%  10.4  379s\n",
      "  3220  3539 2.4132e+09  357 2447 2.4185e+09 2.4131e+09  0.22%   9.6  392s\n",
      "H 3538  3762                    2.418072e+09 2.4131e+09  0.21%   8.9  411s\n",
      "H 3629  3762                    2.418038e+09 2.4131e+09  0.20%   8.7  411s\n",
      "H 3668  3762                    2.418010e+09 2.4131e+09  0.20%   8.6  412s\n",
      "H 3761  4078                    2.417954e+09 2.4131e+09  0.20%   8.5  424s\n",
      "  4077  4396 2.4132e+09  461 2363 2.4180e+09 2.4131e+09  0.20%   8.0  434s\n",
      "  4395  4714 2.4132e+09  507 2337 2.4180e+09 2.4131e+09  0.20%   7.5  443s\n",
      "  4713  5032 2.4132e+09  549 2307 2.4180e+09 2.4131e+09  0.20%   7.1  453s\n",
      "H 5031  5265                    2.417544e+09 2.4131e+09  0.18%   6.8  473s\n",
      "H 5085  5265                    2.417433e+09 2.4131e+09  0.18%   6.7  473s\n",
      "H 5183  5265                    2.417393e+09 2.4131e+09  0.18%   6.6  473s\n",
      "H 5264  5583                    2.417348e+09 2.4131e+09  0.18%   6.5  482s\n",
      "  5582  5901 2.4132e+09  644 2228 2.4173e+09 2.4131e+09  0.18%   6.2  491s\n",
      "  5900  5948 2.4132e+09  695 2228 2.4173e+09 2.4131e+09  0.18%   6.0  505s\n",
      "H 5907  2995                    2.414569e+09 2.4131e+09  0.06%   6.0  506s\n",
      "H 5948  3255                    2.414569e+09 2.4131e+09  0.06%   5.9  517s\n",
      "H 6250  3251                    2.414552e+09 2.4131e+09  0.06%   6.3  519s\n",
      "  6251  3252 2.4132e+09  300 3061 2.4146e+09 2.4131e+09  0.06%   6.3  528s\n",
      "  6253  3253 2.4139e+09  267 1978 2.4146e+09 2.4131e+09  0.06%   6.3  546s\n",
      "H 6253  3090                    2.414548e+09 2.4131e+09  0.06%   6.3  558s\n",
      "H 6253  2935                    2.414542e+09 2.4131e+09  0.06%   6.3  558s\n",
      "H 6253  2788                    2.414522e+09 2.4131e+09  0.06%   6.3  558s\n",
      "H 6253  2649                    2.414474e+09 2.4131e+09  0.06%   6.3  559s\n",
      "H 6253  2516                    2.414041e+09 2.4131e+09  0.04%   6.3  559s\n",
      "H 6253  2390                    2.414041e+09 2.4131e+09  0.04%   6.3  559s\n",
      "H 6253  2271                    2.414032e+09 2.4131e+09  0.04%   6.3  559s\n",
      "H 6253  2157                    2.414031e+09 2.4131e+09  0.04%   6.3  559s\n",
      "H 6253  2049                    2.414024e+09 2.4131e+09  0.04%   6.3  559s\n",
      "H 6253  1947                    2.414024e+09 2.4131e+09  0.04%   6.3  559s\n",
      "H 6253  1849                    2.414024e+09 2.4131e+09  0.04%   6.3  559s\n",
      "H 6253  1757                    2.414024e+09 2.4131e+09  0.04%   6.3  559s\n",
      "H 6253  1669                    2.414024e+09 2.4131e+09  0.04%   6.3  571s\n",
      "H 6253  1585                    2.414024e+09 2.4131e+09  0.04%   6.3  571s\n",
      "H 6253  1506                    2.414024e+09 2.4131e+09  0.04%   6.3  573s\n",
      "H 6253  1431                    2.414001e+09 2.4131e+09  0.04%   6.3  574s\n",
      "H 6253  1359                    2.414000e+09 2.4131e+09  0.04%   6.3  576s\n",
      "H 6253  1291                    2.413955e+09 2.4131e+09  0.04%   6.3  576s\n",
      "  6257  1294 2.4137e+09   99 2112 2.4140e+09 2.4131e+09  0.04%   6.3  580s\n",
      "  6263  1298 2.4132e+09  422 2320 2.4140e+09 2.4131e+09  0.04%   6.3  585s\n",
      "  6269  1302 2.4132e+09  543 2475 2.4140e+09 2.4131e+09  0.04%   6.3  590s\n",
      "  6274  1305 2.4137e+09  542 2750 2.4140e+09 2.4131e+09  0.03%   6.3  595s\n",
      "  6280  1309 2.4137e+09  603 3056 2.4140e+09 2.4132e+09  0.03%   6.3  607s\n",
      "H 6280  1243                    2.413931e+09 2.4132e+09  0.03%   6.3  627s\n",
      "  6282  1245 2.4139e+09  400 2694 2.4139e+09 2.4132e+09  0.03%   6.3  633s\n",
      "  6284  1246 2.4137e+09  305 2747 2.4139e+09 2.4132e+09  0.03%   6.3  635s\n",
      "  6289  1249 2.4137e+09  305 2552 2.4139e+09 2.4132e+09  0.03%   6.3  640s\n",
      "  6290  1250 2.4134e+09   33 2566 2.4139e+09 2.4132e+09  0.03%   6.3  646s\n",
      "H 6290  1187                    2.413927e+09 2.4132e+09  0.03%   6.3  663s\n",
      "H 6290  1127                    2.413926e+09 2.4132e+09  0.03%   6.3  664s\n",
      "H 6290  1070                    2.413924e+09 2.4132e+09  0.03%   6.3  665s\n",
      "H 6290  1016                    2.413924e+09 2.4132e+09  0.03%   6.3  665s\n",
      "H 6290   964                    2.413922e+09 2.4132e+09  0.03%   6.3  669s\n",
      "H 6290   915                    2.413912e+09 2.4132e+09  0.03%   6.3  669s\n",
      "H 6290   869                    2.413607e+09 2.4132e+09  0.01%   6.3  671s\n",
      "H 6290   825                    2.413573e+09 2.4132e+09  0.01%   6.3  671s\n",
      "H 6290   783                    2.413573e+09 2.4132e+09  0.01%   6.3  672s\n",
      "  6292   784 2.4136e+09  397 2390 2.4136e+09 2.4133e+09  0.01%   6.3  678s\n",
      "  6294   786 2.4133e+09   28 2447 2.4136e+09 2.4133e+09  0.01%   6.3  680s\n",
      "  6299   789 2.4136e+09  775 2660 2.4136e+09 2.4133e+09  0.01%   6.3  686s\n",
      "  6301   790 2.4136e+09  254 2757 2.4136e+09 2.4133e+09  0.01%   6.3  694s\n",
      "H 6301   749                    2.413560e+09 2.4133e+09  0.01%   6.3  709s\n",
      "  6302   750 2.4136e+09  172 2542 2.4136e+09 2.4133e+09  0.01%   6.3  710s\n",
      "  6305   752 2.4136e+09  647 2559 2.4136e+09 2.4133e+09  0.01%   6.3  715s\n",
      "  6306   753 2.4133e+09  276 2638 2.4136e+09 2.4133e+09  0.01%   6.3  723s\n",
      "H 6306   715                    2.413560e+09 2.4133e+09  0.01%   6.3  744s\n",
      "H 6306   678                    2.413559e+09 2.4133e+09  0.01%   6.3  745s\n",
      "H 6306   643                    2.413555e+09 2.4133e+09  0.01%   6.3  745s\n",
      "  6308   644 2.4136e+09  277 2453 2.4136e+09 2.4133e+09  0.01%   6.3  752s\n",
      "  6309   645 2.4136e+09  558 2523 2.4136e+09 2.4133e+09  0.01%   6.3  761s\n",
      "H 6309   612                    2.413554e+09 2.4133e+09  0.01%   6.3  779s\n",
      "  6311   613 2.4136e+09  485 2491 2.4136e+09 2.4133e+09  0.01%   6.3  789s\n",
      "H 6311   581                    2.413553e+09 2.4133e+09  0.01%   6.3  812s\n",
      "H 6311   551                    2.413552e+09 2.4133e+09  0.01%   6.3  812s\n",
      "H 6311   523                    2.413552e+09 2.4133e+09  0.01%   6.3  814s\n",
      "  6313   524 2.4136e+09  112 2517 2.4136e+09 2.4133e+09  0.01%   6.3  828s\n",
      "  6314   525 2.4133e+09  250 2643 2.4136e+09 2.4133e+09  0.01%   6.3  847s\n",
      "  6317   528 2.4136e+09  282 3061 2.4136e+09 2.4133e+09  0.01%  11.6  852s\n",
      "H 6318   502                    2.413535e+09 2.4133e+09  0.01%  11.6  870s\n",
      "\n",
      "Cutting planes:\n",
      "  Gomory: 73\n",
      "  Cover: 38\n",
      "  Implied bound: 1\n",
      "  MIR: 383\n",
      "  StrongCG: 115\n",
      "  Flow cover: 47\n",
      "  Zero half: 122\n",
      "  RLT: 20\n",
      "\n",
      "Explored 6318 nodes (105645 simplex iterations) in 871.66 seconds (465.21 work units)\n",
      "Thread count was 12 (of 12 available processors)\n",
      "\n",
      "Solution count 10: 2.41353e+09 2.41355e+09 2.41355e+09 ... 2.41357e+09\n",
      "\n",
      "Optimal solution found (tolerance 1.00e-04)\n",
      "Best objective 2.413534769059e+09, best bound 2.413308926413e+09, gap 0.0094%\n"
     ]
    },
    {
     "data": {
      "text/plain": [
       "{'objective_value': 2413534769.0592055,\n",
       " 'cost_column_sums': {'cost_emb': np.float64(2413534769.059207),\n",
       "  'cost_bus': np.float64(34137567.91645349),\n",
       "  'cost_train': np.float64(334462248.6582606),\n",
       "  'cost_transit': np.float64(703062065.2329746)},\n",
       " 'total_opportunity': np.float64(1100001.0000000005),\n",
       " 'solve_time': 871.6979999542236,\n",
       " 'selected_count': 180826}"
      ]
     },
     "execution_count": 17,
     "metadata": {},
     "output_type": "execute_result"
    }
   ],
   "source": [
    "opt.solve(verbose=True)\n",
    "opt.get_solution_summary()"
   ]
  },
  {
   "cell_type": "code",
   "execution_count": 18,
   "id": "5019370c-cd5b-4ba0-89e7-deadbd790685",
   "metadata": {},
   "outputs": [
    {
     "data": {
      "application/vnd.jupyter.widget-view+json": {
       "model_id": "b2b84d80b43c4a3c8d288461348b71e0",
       "version_major": 2,
       "version_minor": 1
      },
      "text/plain": [
       "Map(basemap_style=<CartoBasemap.DarkMatterNoLabels: 'https://basemaps.cartocdn.com/gl/dark-matter-nolabels-gl-…"
      ]
     },
     "execution_count": 18,
     "metadata": {},
     "output_type": "execute_result"
    }
   ],
   "source": [
    "smooth_pids = opt.get_selected_pids()\n",
    "\n",
    "cmap = {\n",
    "    \"bment\": palette.colors[3],\n",
    "    \"vsplit\": palette.colors[2],\n",
    "    \"adu\": palette.colors[1],\n",
    "    \"p2lo\": palette.colors[0]\n",
    "}\n",
    "\n",
    "lonboard_vis(smooth_pids,\n",
    "             pathways,\n",
    "             cmap,\n",
    "             sample_frac=0.2, \n",
    "             layer_kwargs={\n",
    "                 \"opacity\":0.2,\n",
    "                 \"radius_scale\": 1,\n",
    "                 # \"radius_max_pixels\": 2,\n",
    "                 # \"radius_min_pixels\": 2,\n",
    "             },\n",
    "             map_kwargs={\n",
    "                 \"_height\":800\n",
    "             }\n",
    "            )"
   ]
  },
  {
   "cell_type": "code",
   "execution_count": 19,
   "id": "f3dc5768-fe1f-49a8-b51f-ab74d0c938eb",
   "metadata": {},
   "outputs": [
    {
     "data": {
      "image/png": "[encoded data removed]",
      "text/plain": [
       "<Figure size 700x300 with 2 Axes>"
      ]
     },
     "metadata": {},
     "output_type": "display_data"
    }
   ],
   "source": [
    "quick_vis(smooth_pids, pathways, cmap)"
   ]
  },
  {
   "cell_type": "code",
   "execution_count": 20,
   "id": "034f4e5d-f60a-42e6-a214-cbb5646057f8",
   "metadata": {},
   "outputs": [
    {
     "name": "stdout",
     "output_type": "stream",
     "text": [
      "Embodied Carbon: 2.414 Mt\n"
     ]
    }
   ],
   "source": [
    "total_carbon = pathways[pathways[\"pid\"].isin(smooth_pids)][\"cost_emb\"].sum()/1e9\n",
    "print(f\"Embodied Carbon: {total_carbon:.4} Mt\")"
   ]
  },
  {
   "cell_type": "code",
   "execution_count": 21,
   "id": "55e612c4-fcba-4841-8bbd-cb670c7485ba",
   "metadata": {},
   "outputs": [],
   "source": [
    "with (results_dir / \"smooth_pids.pkl\").open(\"wb\") as f:\n",
    "    pickle.dump(smooth_pids, f)"
   ]
  },
  {
   "cell_type": "markdown",
   "id": "41e500ed-7410-4d85-a04f-46140c36f6e2",
   "metadata": {},
   "source": [
    "## Max Conversion\n",
    "In this example, I set a limit on the amount of SFH that can be converted."
   ]
  },
  {
   "cell_type": "markdown",
   "id": "ee994bf7-75bf-4912-9446-eb94ae4e37b3",
   "metadata": {},
   "source": [
    "### Setup"
   ]
  },
  {
   "cell_type": "code",
   "execution_count": 68,
   "id": "f51fb2be-7cbb-42d3-928c-1f520b6aad84",
   "metadata": {},
   "outputs": [],
   "source": [
    "opt = PathwayOptimizer(pathways)\n",
    "opt.build_variables()\n",
    "opt.set_objective(obj_weights)"
   ]
  },
  {
   "cell_type": "code",
   "execution_count": 69,
   "id": "7615e8b2-9543-48df-8f7f-a94f00eb5e2e",
   "metadata": {},
   "outputs": [],
   "source": [
    "# Baseline constraints\n",
    "opt.add_opportunity_constraints(1100000, \">=\", tag=\"min_opp\") #Must grow by 1.1 million people\n",
    "opt.add_mutual_exclusion(\"p2lo\", tag=\"mutal_exclusion\"); #Converting parking lots means you can't do other things in that area"
   ]
  },
  {
   "cell_type": "code",
   "execution_count": 71,
   "id": "0e2f34c2-81d8-452c-ac3b-1bd9fede1691",
   "metadata": {},
   "outputs": [
    {
     "data": {
      "text/plain": [
       "<gurobi.Constr R2434>"
      ]
     },
     "execution_count": 71,
     "metadata": {},
     "output_type": "execute_result"
    }
   ],
   "source": [
    "opt.add_conversion_constraints(\n",
    "    start_name=\"sfh\",\n",
    "    sense=\"<=\",\n",
    "    limit=30000,\n",
    "    check_overlaps = True,\n",
    "    proj_crs=\"EPSG:3347\",\n",
    "    debuff=1,\n",
    "    tag=\"overlaps\"\n",
    ")"
   ]
  },
  {
   "cell_type": "code",
   "execution_count": 53,
   "id": "48484259-9b74-4444-b9af-1930bfbf3a55",
   "metadata": {},
   "outputs": [
    {
     "name": "stdout",
     "output_type": "stream",
     "text": [
      "Model written to: test.lp.lp\n"
     ]
    }
   ],
   "source": [
    "opt.export_model(\"test.lp\")"
   ]
  },
  {
   "cell_type": "code",
   "execution_count": 73,
   "id": "94ddfd96-2ba3-449e-858e-300e9c3c3633",
   "metadata": {},
   "outputs": [
    {
     "name": "stdout",
     "output_type": "stream",
     "text": [
      "Gurobi Model Debug Info\n",
      "- Variables: 1117048\n",
      "- Constraints: 276186\n",
      "- Objective set: True\n",
      "- Model status: 1\n",
      "\n",
      "Objective Weights:\n",
      "  cost_emb: 1.0\n",
      "\n",
      "Variables (first 20):\n",
      "  x_0: not solved\n",
      "  x_1: not solved\n",
      "  x_2: not solved\n",
      "  x_3: not solved\n",
      "  x_4: not solved\n",
      "  x_5: not solved\n",
      "  x_6: not solved\n",
      "  x_7: not solved\n",
      "  x_8: not solved\n",
      "  x_9: not solved\n",
      "  x_10: not solved\n",
      "  x_11: not solved\n",
      "  x_12: not solved\n",
      "  x_13: not solved\n",
      "  x_14: not solved\n",
      "  x_15: not solved\n",
      "  x_16: not solved\n",
      "  x_17: not solved\n",
      "  x_18: not solved\n",
      "  x_19: not solved\n",
      "  ... (truncated)\n",
      "\n",
      "Constraint Tags:\n",
      "  [min_opp] 1 constraints\n",
      "  [mutal_exclusion] 2433 constraints\n",
      "  [overlaps_dummy] 273751 constraints\n",
      "  [overlaps] 1 constraints\n"
     ]
    }
   ],
   "source": [
    "opt.debug_model(verbose=True)"
   ]
  },
  {
   "cell_type": "markdown",
   "id": "efb512f9-100b-4a95-add3-ed521d39c080",
   "metadata": {},
   "source": [
    "### Solve"
   ]
  },
  {
   "cell_type": "code",
   "execution_count": 74,
   "id": "9f62c992-2c47-4c33-98cc-49fca7d19f4d",
   "metadata": {},
   "outputs": [
    {
     "name": "stdout",
     "output_type": "stream",
     "text": [
      "Set parameter OutputFlag to value 1\n",
      "Gurobi Optimizer version 12.0.1 build v12.0.1rc0 (win64 - Windows 11.0 (26100.2))\n",
      "\n",
      "CPU model: 13th Gen Intel(R) Core(TM) i7-13700K, instruction set [SSE2|AVX|AVX2]\n",
      "Thread count: 16 physical cores, 24 logical processors, using up to 24 threads\n",
      "\n",
      "Academic license 2644692 - for non-commercial use only - registered to je___@mail.utoronto.ca\n",
      "Optimize a model with 2435 rows, 1117048 columns and 1141793 nonzeros\n",
      "Model fingerprint: 0xc6e6832c\n",
      "Model has 273751 simple general constraints\n",
      "  273751 OR\n",
      "Variable types: 0 continuous, 1117048 integer (1117048 binary)\n",
      "Coefficient statistics:\n",
      "  Matrix range     [1e+00, 5e+03]\n",
      "  Objective range  [3e+03, 7e+07]\n",
      "  Bounds range     [1e+00, 1e+00]\n",
      "  RHS range        [1e+00, 1e+06]\n",
      "Presolve added 547509 rows and 0 columns\n",
      "Presolve removed 0 rows and 268830 columns\n",
      "Presolve time: 3.41s\n",
      "Presolved: 549944 rows, 848218 columns, 1948111 nonzeros\n",
      "Variable types: 0 continuous, 848218 integer (848212 binary)\n",
      "Found heuristic solution: objective 1.400259e+10\n",
      "Found heuristic solution: objective 1.256328e+10\n",
      "Deterministic concurrent LP optimizer: primal simplex, dual simplex, and barrier\n",
      "Showing barrier log only...\n",
      "\n",
      "Root barrier log...\n",
      "\n",
      "Ordering time: 0.07s\n",
      "\n",
      "Barrier statistics:\n",
      " AA' NZ     : 1.374e+06\n",
      " Factor NZ  : 1.925e+06 (roughly 600 MB of memory)\n",
      " Factor Ops : 6.897e+06 (less than 1 second per iteration)\n",
      " Threads    : 14\n",
      "\n",
      "                  Objective                Residual\n",
      "Iter       Primal          Dual         Primal    Dual     Compl     Time\n",
      "   0   8.38840711e+12 -1.07971318e+12  2.18e+07 1.72e+05  8.17e+08     6s\n",
      "   1   7.51178789e+12 -1.08462050e+12  1.85e+07 7.60e+05  7.11e+08     7s\n",
      "   2   7.38079845e+12 -1.05429301e+12  1.81e+07 3.17e+05  6.91e+08     7s\n",
      "   3   5.99302496e+12 -1.01726482e+12  1.35e+07 3.65e+05  5.17e+08     8s\n",
      "   4   5.36337550e+12 -1.04266392e+12  1.20e+07 1.60e+05  4.77e+08     8s\n",
      "   5   2.69503958e+11 -1.04197810e+12  5.69e+05 2.42e-08  2.34e+07     9s\n",
      "   6   2.31281811e+10 -9.70743352e+11  2.27e+04 5.96e-08  1.33e+06     9s\n",
      "   7   1.36342185e+10 -2.90167515e+11  1.62e+03 1.86e-08  1.77e+05    10s\n",
      "   8   1.33139431e+10 -6.52585635e+10  8.97e+00 2.24e-08  3.51e+04    10s\n",
      "   9   1.31575872e+10 -2.36466636e+10  1.64e+00 9.31e-09  1.64e+04    10s\n",
      "  10   1.28287920e+10 -1.64818466e+10  1.67e-15 7.45e-09  1.30e+04    11s\n",
      "  11   1.27180730e+10 -1.99425780e+09  1.86e-13 3.73e-09  6.55e+03    11s\n",
      "  12   1.25182560e+10  2.88306313e+09  2.71e-13 2.33e-09  4.29e+03    11s\n",
      "  13   1.23451373e+10  6.01355630e+09  3.51e-13 1.86e-09  2.82e+03    11s\n",
      "  14   1.22521132e+10  7.18755610e+09  3.39e-13 1.40e-09  2.25e+03    12s\n",
      "  15   1.22027200e+10  7.72775425e+09  3.24e-13 9.31e-10  1.99e+03    12s\n",
      "  16   1.20593410e+10  8.38024793e+09  2.79e-13 5.82e-10  1.64e+03    12s\n",
      "  17   1.19555236e+10  8.70430234e+09  2.40e-13 4.66e-10  1.45e+03    13s\n",
      "  18   1.15861319e+10  9.37314279e+09  1.86e-13 3.02e-10  9.85e+02    13s\n",
      "  19   1.15359746e+10  9.70088955e+09  1.78e-13 4.06e-10  8.17e+02    13s\n",
      "  20   1.14039329e+10  9.81059960e+09  1.50e-13 3.37e-10  7.09e+02    14s\n",
      "  21   1.13659107e+10  9.86012701e+09  1.44e-13 3.17e-10  6.70e+02    14s\n",
      "  22   1.13316198e+10  9.94614187e+09  1.38e-13 2.99e-10  6.17e+02    14s\n",
      "  23   1.12884029e+10  9.97391803e+09  1.32e-13 3.06e-10  5.85e+02    15s\n",
      "  24   1.12045632e+10  1.00188029e+10  1.20e-13 3.78e-10  5.28e+02    15s\n",
      "  25   1.11823861e+10  1.00516455e+10  1.16e-13 3.64e-10  5.03e+02    15s\n",
      "  26   1.11477520e+10  1.01135431e+10  1.10e-13 3.81e-10  4.60e+02    16s\n",
      "  27   1.09958658e+10  1.01997040e+10  8.33e-14 3.42e-10  3.54e+02    16s\n",
      "  28   1.09442365e+10  1.02286458e+10  7.56e-14 4.63e-10  3.19e+02    16s\n",
      "  29   1.09316963e+10  1.02658442e+10  7.40e-14 5.24e-10  2.96e+02    17s\n",
      "  30   1.08614236e+10  1.02922010e+10  6.33e-14 5.06e-10  2.53e+02    17s\n",
      "  31   1.08417414e+10  1.03055651e+10  6.06e-14 4.43e-10  2.39e+02    17s\n",
      "  32   1.07741578e+10  1.03233170e+10  5.17e-14 3.70e-10  2.01e+02    17s\n",
      "  33   1.07547891e+10  1.03349874e+10  4.92e-14 3.57e-10  1.87e+02    18s\n",
      "\n",
      "Barrier performed 33 iterations in 17.66 seconds (14.72 work units)\n",
      "Barrier solve interrupted - model solved by another algorithm\n",
      "\n",
      "Concurrent spin time: 2.97s (can be avoided by choosing Method=3)\n",
      "\n",
      "Solved with dual simplex\n",
      "\n",
      "Root simplex log...\n",
      "\n",
      "Iteration    Objective       Primal Inf.    Dual Inf.      Time\n",
      "  545308    1.0406192e+10   0.000000e+00   0.000000e+00     18s\n",
      "\n",
      "Root relaxation: objective 1.040619e+10, 545308 iterations, 12.98 seconds (9.68 work units)\n",
      "\n",
      "    Nodes    |    Current Node    |     Objective Bounds      |     Work\n",
      " Expl Unexpl |  Obj  Depth IntInf | Incumbent    BestBd   Gap | It/Node Time\n",
      "\n",
      "     0     0 1.0406e+10    0    1 1.2563e+10 1.0406e+10  17.2%     -   17s\n",
      "H    0     0                    1.043131e+10 1.0406e+10  0.24%     -   18s\n",
      "H    0     0                    1.040928e+10 1.0406e+10  0.03%     -   18s\n",
      "H    0     0                    1.040624e+10 1.0406e+10  0.00%     -   18s\n",
      "\n",
      "Explored 1 nodes (545308 simplex iterations) in 19.01 seconds (16.72 work units)\n",
      "Thread count was 24 (of 24 available processors)\n",
      "\n",
      "Solution count 5: 1.04062e+10 1.04093e+10 1.04313e+10 ... 1.40026e+10\n",
      "\n",
      "Optimal solution found (tolerance 1.00e-04)\n",
      "Best objective 1.040623677955e+10, best bound 1.040619200767e+10, gap 0.0004%\n"
     ]
    },
    {
     "data": {
      "text/plain": [
       "{'objective_value': 10406236779.551119,\n",
       " 'cost_column_sums': {'cost_emb': np.float64(10406236779.551128),\n",
       "  'cost_bus': np.float64(64851551.756020986),\n",
       "  'cost_train': np.float64(626539562.592344),\n",
       "  'cost_transit': np.float64(1317930676.9407089),\n",
       "  'cost_access': np.float64(208843.92527256825)},\n",
       " 'total_opportunity': np.float64(1100002.0499999998),\n",
       " 'solve_time': 19.23300004005432,\n",
       " 'selected_count': 331132}"
      ]
     },
     "execution_count": 74,
     "metadata": {},
     "output_type": "execute_result"
    }
   ],
   "source": [
    "opt.solve(verbose=True)\n",
    "opt.get_solution_summary()"
   ]
  },
  {
   "cell_type": "code",
   "execution_count": 75,
   "id": "02e5d6dd-da6b-4620-a9b4-f83aced03a98",
   "metadata": {},
   "outputs": [
    {
     "data": {
      "application/vnd.jupyter.widget-view+json": {
       "model_id": "0bdfdb0e3a944beba37c93ee18e8ed65",
       "version_major": 2,
       "version_minor": 1
      },
      "text/plain": [
       "Map(basemap_style=<CartoBasemap.DarkMatterNoLabels: 'https://basemaps.cartocdn.com/gl/dark-matter-nolabels-gl-…"
      ]
     },
     "execution_count": 75,
     "metadata": {},
     "output_type": "execute_result"
    }
   ],
   "source": [
    "mconv_pids = opt.get_selected_pids()\n",
    "\n",
    "cmap = {\n",
    "    \"bment\": palette.colors[3],\n",
    "    \"vsplit\": palette.colors[2],\n",
    "    \"adu\": palette.colors[1],\n",
    "    \"p2lo\": palette.colors[0]\n",
    "}\n",
    "\n",
    "lonboard_vis(mconv_pids,\n",
    "             pathways,\n",
    "             cmap,\n",
    "             sample_frac=0.2, \n",
    "             layer_kwargs={\n",
    "                 \"opacity\":0.2,\n",
    "                 \"radius_scale\": 1,\n",
    "                 # \"radius_max_pixels\": 2,\n",
    "                 # \"radius_min_pixels\": 2,\n",
    "             },\n",
    "             map_kwargs={\n",
    "                 \"_height\":800\n",
    "             }\n",
    "            )"
   ]
  },
  {
   "cell_type": "code",
   "execution_count": 76,
   "id": "7bbedc15-3650-4d09-b9f3-c98ec694e48e",
   "metadata": {},
   "outputs": [
    {
     "data": {
      "image/png": "[encoded data removed]",
      "text/plain": [
       "<Figure size 700x300 with 2 Axes>"
      ]
     },
     "metadata": {},
     "output_type": "display_data"
    }
   ],
   "source": [
    "quick_vis(mconv_pids, pathways, cmap)"
   ]
  },
  {
   "cell_type": "code",
   "execution_count": 77,
   "id": "21ef519e-54ff-4382-9b4c-a3b8118090e6",
   "metadata": {},
   "outputs": [
    {
     "name": "stdout",
     "output_type": "stream",
     "text": [
      "Embodied Carbon: 10.41 Mt\n"
     ]
    }
   ],
   "source": [
    "total_carbon = pathways[pathways[\"pid\"].isin(mconv_pids)][\"cost_emb\"].sum()/1e9\n",
    "print(f\"Embodied Carbon: {total_carbon:.4} Mt\")"
   ]
  },
  {
   "cell_type": "code",
   "execution_count": 78,
   "id": "fd26d3f4-6e49-4459-8cab-230ed6476d18",
   "metadata": {},
   "outputs": [],
   "source": [
    "with (results_dir / \"mconv_pids.pkl\").open(\"wb\") as f:\n",
    "    pickle.dump(mconv_pids, f)"
   ]
  },
  {
   "cell_type": "markdown",
   "id": "70092027-7208-42e0-a56e-8e7042d04f1c",
   "metadata": {},
   "source": [
    "# MOO"
   ]
  },
  {
   "cell_type": "markdown",
   "id": "20cb6527-ba62-42a7-ba10-3ff3de2147f5",
   "metadata": {},
   "source": [
    "## cost_emb vs cost_acc"
   ]
  },
  {
   "cell_type": "markdown",
   "id": "3a4fd43b-017b-4bcf-8823-2950fe6dc514",
   "metadata": {},
   "source": [
    "### Setup"
   ]
  },
  {
   "cell_type": "code",
   "execution_count": 18,
   "id": "8a3ab7e1-7f07-4ab8-a7e7-ebbf1958b7ab",
   "metadata": {},
   "outputs": [],
   "source": [
    "cost_cols = [\"cost_emb\", \"cost_access\"]\n",
    "scaler = [1, 10000]"
   ]
  },
  {
   "cell_type": "code",
   "execution_count": 19,
   "id": "bdc9b8a6-6541-491f-a8f6-92394f5f36af",
   "metadata": {},
   "outputs": [],
   "source": [
    "opt = PathwayOptimizer(pathways)\n",
    "opt.build_variables()\n",
    "\n",
    "# Baseline constraints\n",
    "opt.add_opportunity_constraints(1100000, \">=\", tag=\"min_opp\") #Must grow by 1.1 million people\n",
    "opt.add_mutual_exclusion(\"p2lo\", tag=\"mutal_exclusion\") #Converting parking lots means you can't do other things in that area\n",
    "\n",
    "# Generic Constraints\n",
    "cdata = census_data_2021[[\"1\", \"geometry\"]].copy() # 1: 2021 population, 243: Median HH income\n",
    "\n",
    "cdata[\"limit\"] = cdata[\"1\"] * 2\n",
    "\n",
    "# opt.add_opportunity_constraints(cdata[\"limit\"].to_list(), \"<=\", cdata[\"geometry\"].to_list(), tag=\"doubling\");"
   ]
  },
  {
   "cell_type": "markdown",
   "id": "73b58225-2522-4bc2-999f-43d16a5ff11c",
   "metadata": {},
   "source": [
    "### Solve"
   ]
  },
  {
   "cell_type": "code",
   "execution_count": 20,
   "id": "2e3eb503-ed7d-4f86-8be2-3b5551f42bcf",
   "metadata": {},
   "outputs": [
    {
     "data": {
      "text/html": [
       "<div>\n",
       "<style scoped>\n",
       "    .dataframe tbody tr th:only-of-type {\n",
       "        vertical-align: middle;\n",
       "    }\n",
       "\n",
       "    .dataframe tbody tr th {\n",
       "        vertical-align: top;\n",
       "    }\n",
       "\n",
       "    .dataframe thead th {\n",
       "        text-align: right;\n",
       "    }\n",
       "</style>\n",
       "<table border=\"1\" class=\"dataframe\">\n",
       "  <thead>\n",
       "    <tr style=\"text-align: right;\">\n",
       "      <th></th>\n",
       "      <th>label</th>\n",
       "      <th>start</th>\n",
       "      <th>end</th>\n",
       "      <th>desc</th>\n",
       "      <th>opportunity</th>\n",
       "      <th>geometry</th>\n",
       "      <th>cost_emb</th>\n",
       "      <th>cost_bus</th>\n",
       "      <th>cost_train</th>\n",
       "      <th>cost_transit</th>\n",
       "      <th>cost_access</th>\n",
       "      <th>pid</th>\n",
       "    </tr>\n",
       "  </thead>\n",
       "  <tbody>\n",
       "    <tr>\n",
       "      <th>783993</th>\n",
       "      <td>bment</td>\n",
       "      <td>sfh</td>\n",
       "      <td>multiplex</td>\n",
       "      <td>Adding a basement unit to a single family home</td>\n",
       "      <td>2.10</td>\n",
       "      <td>POLYGON ((-79.38168 43.803, -79.38174 43.80286...</td>\n",
       "      <td>7975.308955</td>\n",
       "      <td>358.356894</td>\n",
       "      <td>3724.919694</td>\n",
       "      <td>7808.196282</td>\n",
       "      <td>0.528702</td>\n",
       "      <td>783993</td>\n",
       "    </tr>\n",
       "    <tr>\n",
       "      <th>496280</th>\n",
       "      <td>vsplit</td>\n",
       "      <td>sfh</td>\n",
       "      <td>multiplex</td>\n",
       "      <td>Vertically splitting a multi-story SFH into ne...</td>\n",
       "      <td>6.30</td>\n",
       "      <td>POLYGON ((-79.55236 43.72068, -79.55236 43.720...</td>\n",
       "      <td>22191.444954</td>\n",
       "      <td>399.392295</td>\n",
       "      <td>7117.132490</td>\n",
       "      <td>14633.657275</td>\n",
       "      <td>0.660932</td>\n",
       "      <td>496280</td>\n",
       "    </tr>\n",
       "    <tr>\n",
       "      <th>817357</th>\n",
       "      <td>bment</td>\n",
       "      <td>sfh</td>\n",
       "      <td>multiplex</td>\n",
       "      <td>Adding a basement unit to a single family home</td>\n",
       "      <td>3.15</td>\n",
       "      <td>POLYGON ((-79.25943 43.81156, -79.25951 43.811...</td>\n",
       "      <td>9991.868040</td>\n",
       "      <td>75.128634</td>\n",
       "      <td>8232.401735</td>\n",
       "      <td>16539.932104</td>\n",
       "      <td>0.733277</td>\n",
       "      <td>817357</td>\n",
       "    </tr>\n",
       "    <tr>\n",
       "      <th>32084</th>\n",
       "      <td>adu</td>\n",
       "      <td>backyard</td>\n",
       "      <td>sfh</td>\n",
       "      <td>Adding an additional dwelling unit to on a sin...</td>\n",
       "      <td>2.10</td>\n",
       "      <td>POLYGON ((-79.39696 43.68962, -79.39703 43.689...</td>\n",
       "      <td>28224.000000</td>\n",
       "      <td>154.789057</td>\n",
       "      <td>259.855679</td>\n",
       "      <td>674.500414</td>\n",
       "      <td>0.318508</td>\n",
       "      <td>32084</td>\n",
       "    </tr>\n",
       "    <tr>\n",
       "      <th>249358</th>\n",
       "      <td>adu</td>\n",
       "      <td>backyard</td>\n",
       "      <td>sfh</td>\n",
       "      <td>Adding an additional dwelling unit to on a sin...</td>\n",
       "      <td>2.10</td>\n",
       "      <td>POLYGON ((-79.41602 43.73486, -79.41604 43.734...</td>\n",
       "      <td>28224.000000</td>\n",
       "      <td>324.056532</td>\n",
       "      <td>1250.521172</td>\n",
       "      <td>2825.098877</td>\n",
       "      <td>0.570238</td>\n",
       "      <td>249358</td>\n",
       "    </tr>\n",
       "  </tbody>\n",
       "</table>\n",
       "</div>"
      ],
      "text/plain": [
       "         label     start        end  \\\n",
       "783993   bment       sfh  multiplex   \n",
       "496280  vsplit       sfh  multiplex   \n",
       "817357   bment       sfh  multiplex   \n",
       "32084      adu  backyard        sfh   \n",
       "249358     adu  backyard        sfh   \n",
       "\n",
       "                                                     desc  opportunity  \\\n",
       "783993     Adding a basement unit to a single family home         2.10   \n",
       "496280  Vertically splitting a multi-story SFH into ne...         6.30   \n",
       "817357     Adding a basement unit to a single family home         3.15   \n",
       "32084   Adding an additional dwelling unit to on a sin...         2.10   \n",
       "249358  Adding an additional dwelling unit to on a sin...         2.10   \n",
       "\n",
       "                                                 geometry      cost_emb  \\\n",
       "783993  POLYGON ((-79.38168 43.803, -79.38174 43.80286...   7975.308955   \n",
       "496280  POLYGON ((-79.55236 43.72068, -79.55236 43.720...  22191.444954   \n",
       "817357  POLYGON ((-79.25943 43.81156, -79.25951 43.811...   9991.868040   \n",
       "32084   POLYGON ((-79.39696 43.68962, -79.39703 43.689...  28224.000000   \n",
       "249358  POLYGON ((-79.41602 43.73486, -79.41604 43.734...  28224.000000   \n",
       "\n",
       "          cost_bus   cost_train  cost_transit  cost_access     pid  \n",
       "783993  358.356894  3724.919694   7808.196282     0.528702  783993  \n",
       "496280  399.392295  7117.132490  14633.657275     0.660932  496280  \n",
       "817357   75.128634  8232.401735  16539.932104     0.733277  817357  \n",
       "32084   154.789057   259.855679    674.500414     0.318508   32084  \n",
       "249358  324.056532  1250.521172   2825.098877     0.570238  249358  "
      ]
     },
     "execution_count": 20,
     "metadata": {},
     "output_type": "execute_result"
    }
   ],
   "source": [
    "opt.data.sample(5)"
   ]
  },
  {
   "cell_type": "code",
   "execution_count": 22,
   "id": "8b292155-3615-467b-8996-324d09bdaa54",
   "metadata": {},
   "outputs": [
    {
     "data": {
      "image/png": "[encoded data removed]",
      "text/plain": [
       "<Figure size 640x480 with 1 Axes>"
      ]
     },
     "metadata": {},
     "output_type": "display_data"
    }
   ],
   "source": [
    "import numpy as np\n",
    "import matplotlib.pyplot as plt\n",
    "\n",
    "n_points = 2\n",
    "exponent = 4\n",
    "start = 1.0\n",
    "end = 0.00\n",
    "\n",
    "points = start + (end - start) * (np.linspace(0, 1, n_points) ** exponent)\n",
    "\n",
    "plt.scatter(points, [1]*n_points, marker='|', s=200)\n",
    "plt.yticks([])\n",
    "plt.title(f\"Point Spacing (Exponent = {exponent})\")\n",
    "plt.xlabel(\"Value\")\n",
    "plt.grid(True, axis='x')\n",
    "plt.tight_layout()\n",
    "plt.show()\n",
    "\n",
    "weights = [[p, 1-p] for p in points]"
   ]
  },
  {
   "cell_type": "code",
   "execution_count": 23,
   "id": "010833ea-e970-4b61-83db-83be92480479",
   "metadata": {},
   "outputs": [],
   "source": [
    "output = []\n",
    "pid_saves = []"
   ]
  },
  {
   "cell_type": "code",
   "execution_count": 24,
   "id": "5f358384-051d-40db-8c47-f1214d59838d",
   "metadata": {},
   "outputs": [
    {
     "name": "stdout",
     "output_type": "stream",
     "text": [
      "{'cost_emb': np.float64(1.0), 'cost_access': np.float64(0.0)}\n",
      "Optimization Summary\n",
      "  Objective Value   : 3247782332.39\n",
      "  Total Opportunity: 1100001.00\n",
      "  Solve Time        : 5.058 sec\n",
      "  Selected Pathways : 212931\n",
      "{'cost_emb': np.float64(0.0), 'cost_access': np.float64(10000.0)}\n",
      "Optimization Summary\n",
      "  Objective Value   : 461162310.21\n",
      "  Total Opportunity: 1100006.25\n",
      "  Solve Time        : 8.024 sec\n",
      "  Selected Pathways : 83411\n"
     ]
    }
   ],
   "source": [
    "for w in weights:\n",
    "    obj_weights = {c: w[i]*scaler[i] for i, c in enumerate(cost_cols)}\n",
    "    print(obj_weights)\n",
    "    opt.set_objective(obj_weights)\n",
    "    opt.solve(verbose=False)\n",
    "\n",
    "    selected_pids = opt.get_selected_pids()\n",
    "    pid_saves.append((w[0], w[1], selected_pids))\n",
    "\n",
    "    # if prev_pids is not None:\n",
    "    #     assert set(selected_pids) != set(prev_pids), \"selected_pids did not change\"\n",
    "\n",
    "\n",
    "    # Get results for ALL objectives in the dataset\n",
    "    # (not just specified cost columns)\n",
    "    # selected_pids = opt.get_selected_pids()\n",
    "    built = opt.data[opt.data[\"pid\"].isin(selected_pids)].copy()\n",
    "\n",
    "    obj_vals = [built[c].sum() for c in opt.cost_columns]\n",
    "    median_costs = [\n",
    "        weighted_median(built[c], built[\"opportunity\"]) for c in opt.cost_columns\n",
    "    ]\n",
    "\n",
    "    # Construct output data\n",
    "    row = {f\"weight_{c}\": obj_weights[c] for c in cost_cols}\n",
    "    for c in opt.cost_columns:\n",
    "        row[c] = built[c].sum()\n",
    "        row[f\"{c}_median\"] = weighted_median(built[c], built[\"opportunity\"])\n",
    "\n",
    "    output.append(row)"
   ]
  },
  {
   "cell_type": "code",
   "execution_count": 25,
   "id": "3505f638-2868-43a0-93f9-98e70d9da089",
   "metadata": {},
   "outputs": [],
   "source": [
    "df = pd.DataFrame(output)\n",
    "df = df.sort_values(\"weight_cost_emb\")\n",
    "df[\"cost_emb\"] = df[\"cost_emb\"]/(1e9*scaler[0])\n",
    "df[\"cost_access\"] = df[\"cost_access\"]/scaler[1]"
   ]
  },
  {
   "cell_type": "code",
   "execution_count": 26,
   "id": "6fe7f5bd-737b-48e7-b8ac-d0e4e1291084",
   "metadata": {},
   "outputs": [
    {
     "data": {
      "text/html": [
       "<div>\n",
       "<style scoped>\n",
       "    .dataframe tbody tr th:only-of-type {\n",
       "        vertical-align: middle;\n",
       "    }\n",
       "\n",
       "    .dataframe tbody tr th {\n",
       "        vertical-align: top;\n",
       "    }\n",
       "\n",
       "    .dataframe thead th {\n",
       "        text-align: right;\n",
       "    }\n",
       "</style>\n",
       "<table border=\"1\" class=\"dataframe\">\n",
       "  <thead>\n",
       "    <tr style=\"text-align: right;\">\n",
       "      <th></th>\n",
       "      <th>weight_cost_emb</th>\n",
       "      <th>weight_cost_access</th>\n",
       "      <th>cost_emb</th>\n",
       "      <th>cost_emb_median</th>\n",
       "      <th>cost_bus</th>\n",
       "      <th>cost_bus_median</th>\n",
       "      <th>cost_train</th>\n",
       "      <th>cost_train_median</th>\n",
       "      <th>cost_transit</th>\n",
       "      <th>cost_transit_median</th>\n",
       "      <th>cost_access</th>\n",
       "      <th>cost_access_median</th>\n",
       "    </tr>\n",
       "  </thead>\n",
       "  <tbody>\n",
       "    <tr>\n",
       "      <th>1</th>\n",
       "      <td>0.0</td>\n",
       "      <td>10000.0</td>\n",
       "      <td>8.800394</td>\n",
       "      <td>36917.661223</td>\n",
       "      <td>1.586327e+07</td>\n",
       "      <td>138.544635</td>\n",
       "      <td>1.712664e+08</td>\n",
       "      <td>1988.810446</td>\n",
       "      <td>3.583961e+08</td>\n",
       "      <td>4142.097481</td>\n",
       "      <td>4.611623</td>\n",
       "      <td>0.607520</td>\n",
       "    </tr>\n",
       "    <tr>\n",
       "      <th>0</th>\n",
       "      <td>1.0</td>\n",
       "      <td>0.0</td>\n",
       "      <td>3.247782</td>\n",
       "      <td>18272.685458</td>\n",
       "      <td>4.388741e+07</td>\n",
       "      <td>182.322548</td>\n",
       "      <td>7.563214e+08</td>\n",
       "      <td>2617.034294</td>\n",
       "      <td>1.556530e+09</td>\n",
       "      <td>5445.510239</td>\n",
       "      <td>13.670211</td>\n",
       "      <td>0.650151</td>\n",
       "    </tr>\n",
       "  </tbody>\n",
       "</table>\n",
       "</div>"
      ],
      "text/plain": [
       "   weight_cost_emb  weight_cost_access  cost_emb  cost_emb_median  \\\n",
       "1              0.0             10000.0  8.800394     36917.661223   \n",
       "0              1.0                 0.0  3.247782     18272.685458   \n",
       "\n",
       "       cost_bus  cost_bus_median    cost_train  cost_train_median  \\\n",
       "1  1.586327e+07       138.544635  1.712664e+08        1988.810446   \n",
       "0  4.388741e+07       182.322548  7.563214e+08        2617.034294   \n",
       "\n",
       "   cost_transit  cost_transit_median  cost_access  cost_access_median  \n",
       "1  3.583961e+08          4142.097481     4.611623            0.607520  \n",
       "0  1.556530e+09          5445.510239    13.670211            0.650151  "
      ]
     },
     "execution_count": 26,
     "metadata": {},
     "output_type": "execute_result"
    }
   ],
   "source": [
    "df"
   ]
  },
  {
   "cell_type": "code",
   "execution_count": 168,
   "id": "13e08927-83f5-4f49-8c7b-96434c668c75",
   "metadata": {},
   "outputs": [
    {
     "data": {
      "image/png": "[encoded data removed]",
      "text/plain": [
       "<Figure size 900x600 with 3 Axes>"
      ]
     },
     "metadata": {},
     "output_type": "display_data"
    }
   ],
   "source": [
    "import matplotlib.pyplot as plt\n",
    "\n",
    "fig, ax1 = plt.subplots(figsize=(9, 6))\n",
    "\n",
    "# Primary y-axis: cost_transit\n",
    "ax1.scatter(df['cost_emb'], df['cost_access'], color=\"blue\", label='Pareto Front')\n",
    "ax1.set_xlabel('Embodied Carbon (Mt)')\n",
    "ax1.set_ylabel('Accessibility', color=\"blue\")\n",
    "ax1.tick_params(axis='y')\n",
    "\n",
    "# Secondary axes: side-by-side on the right\n",
    "ax2_low = ax1.twinx()\n",
    "ax2_high = ax1.twinx()\n",
    "ax2_high.spines[\"right\"].set_position((\"axes\", 1.15))  # shift to avoid overlap\n",
    "ax2_high.spines[\"right\"].set_visible(True)\n",
    "\n",
    "# Plot median curves\n",
    "ax2_low.plot(df['cost_emb'], df['cost_bus_median'], color='orange', linestyle='-.', label='Bus Distance')\n",
    "ax2_high.plot(df['cost_emb'], df['cost_train_median'], color='green', linestyle='--', label='Train Distance')\n",
    "\n",
    "# Set limits\n",
    "ax2_low.set_ylim(100, 300)\n",
    "ax2_high.set_ylim(1000, 2700)\n",
    "\n",
    "# Tick config\n",
    "ax2_low.tick_params(labelright=True, right=True)\n",
    "ax2_high.tick_params(labelright=True, right=True)\n",
    "\n",
    "# Independent y-axis labels\n",
    "ax2_low.set_ylabel('Distance to bus (m)', color='orange')\n",
    "ax2_high.set_ylabel('Distance to train (m)', color='green')\n",
    "\n",
    "# Combine legends\n",
    "lines1, labels1 = ax2_low.get_legend_handles_labels()\n",
    "lines2, labels2 = ax2_high.get_legend_handles_labels()\n",
    "ax1.legend(lines1 + lines2, labels1 + labels2, loc='upper right')\n",
    "\n",
    "plt.title(\"Cost Transit vs Embedding with Median Overlays\")\n",
    "plt.tight_layout()\n",
    "plt.show()\n"
   ]
  },
  {
   "cell_type": "code",
   "execution_count": 170,
   "id": "567cdd5e-d686-4e0e-abd2-bf04140cfb5d",
   "metadata": {},
   "outputs": [
    {
     "data": {
      "image/png": "[encoded data removed]",
      "text/plain": [
       "<Figure size 900x600 with 3 Axes>"
      ]
     },
     "metadata": {},
     "output_type": "display_data"
    }
   ],
   "source": [
    "import matplotlib.pyplot as plt\n",
    "\n",
    "fig, ax1 = plt.subplots(figsize=(9, 6))\n",
    "\n",
    "# Primary y-axis: cost_transit\n",
    "scatter = ax1.scatter(df['cost_emb'], df['cost_access'], color=\"blue\", label='Pareto Front')\n",
    "ax1.set_xlabel('Embodied Carbon (Mt)', fontsize=14)\n",
    "ax1.set_ylabel('Accessibility', color=\"blue\", fontsize=14)\n",
    "ax1.tick_params(axis='both', labelsize=12)\n",
    "\n",
    "# Secondary axes\n",
    "ax2_low = ax1.twinx()\n",
    "ax2_high = ax1.twinx()\n",
    "ax2_high.spines[\"right\"].set_position((\"axes\", 1.15))\n",
    "ax2_high.spines[\"right\"].set_visible(True)\n",
    "\n",
    "# Plot faded, wider lines\n",
    "line1, = ax2_low.plot(df['cost_emb'], df['cost_bus_median'],\n",
    "                      color='orange', linestyle='-.', linewidth=2.5, alpha=0.6, label='Bus Distance')\n",
    "line2, = ax2_high.plot(df['cost_emb'], df['cost_train_median'],\n",
    "                       color='green', linestyle='--', linewidth=2.5, alpha=0.6, label='Train Distance')\n",
    "\n",
    "# Set axis limits\n",
    "ax2_low.set_ylim(100, 300)\n",
    "ax2_high.set_ylim(1000, 2700)\n",
    "\n",
    "# Tick config\n",
    "ax2_low.tick_params(labelright=True, right=True, labelsize=12)\n",
    "ax2_high.tick_params(labelright=True, right=True, labelsize=12)\n",
    "\n",
    "# Axis labels\n",
    "ax2_low.set_ylabel('Distance to bus (m)', color='orange', fontsize=14)\n",
    "ax2_high.set_ylabel('Distance to train (m)', color='green', fontsize=14)\n",
    "\n",
    "# Combine legends\n",
    "lines0, labels0 = [scatter], ['Pareto Front']\n",
    "lines1, labels1 = ax2_low.get_legend_handles_labels()\n",
    "lines2, labels2 = ax2_high.get_legend_handles_labels()\n",
    "ax1.legend(lines0 + lines1 + lines2, labels0 + labels1 + labels2, loc='upper right', fontsize=12)\n",
    "\n",
    "plt.tight_layout()\n",
    "plt.show()\n"
   ]
  },
  {
   "cell_type": "code",
   "execution_count": 175,
   "id": "65498dff-816a-4cb9-9266-ee18c061f1b9",
   "metadata": {},
   "outputs": [
    {
     "data": {
      "image/png": "[encoded data removed]",
      "text/plain": [
       "<Figure size 900x600 with 3 Axes>"
      ]
     },
     "metadata": {},
     "output_type": "display_data"
    }
   ],
   "source": [
    "import matplotlib.pyplot as plt\n",
    "\n",
    "fig, ax1 = plt.subplots(figsize=(9, 6))\n",
    "\n",
    "# Pareto front\n",
    "scatter = ax1.scatter(df['cost_emb'], df['cost_access'], color=\"blue\", label='Pareto Front')\n",
    "ax1.set_xlabel('Embodied Carbon (Mt)', fontsize=14)\n",
    "ax1.set_ylabel('Accessibility', color=\"blue\", fontsize=14)\n",
    "ax1.tick_params(axis='both', labelsize=12)\n",
    "\n",
    "# Secondary axes\n",
    "ax2_low = ax1.twinx()\n",
    "ax2_high = ax1.twinx()\n",
    "ax2_high.spines[\"right\"].set_position((\"axes\", 1.15))\n",
    "ax2_high.spines[\"right\"].set_visible(True)\n",
    "\n",
    "# Plot faded, wider lines\n",
    "line1, = ax2_low.plot(df['cost_emb'], df['cost_bus_median'],\n",
    "                      color='orange', linestyle='-.', linewidth=2.5, alpha=0.3, label='Bus Distance')\n",
    "line2, = ax2_high.plot(df['cost_emb'], df['cost_train_median'],\n",
    "                       color='green', linestyle='--', linewidth=2.5, alpha=0.3, label='Train Distance')\n",
    "\n",
    "# Set axis limits\n",
    "ax2_low.set_ylim(100, 300)\n",
    "ax2_high.set_ylim(1000, 2700)\n",
    "\n",
    "# Combine legends\n",
    "lines0, labels0 = [scatter], ['Pareto Front']\n",
    "lines1, labels1 = ax2_low.get_legend_handles_labels()\n",
    "lines2, labels2 = ax2_high.get_legend_handles_labels()\n",
    "ax1.legend(lines0 + lines1 + lines2, labels0 + labels1 + labels2, loc='upper right', fontsize=12)\n",
    "\n",
    "# Light transparent colors\n",
    "faded_orange = (1.0, 0.65, 0.0, 0.4)\n",
    "faded_green = (0.0, 0.5, 0.0, 0.4)\n",
    "\n",
    "# Apply to y-axis tick labels and lines\n",
    "ax2_low.tick_params(labelright=True, right=True, labelsize=12)\n",
    "ax2_high.tick_params(labelright=True, right=True, labelsize=12)\n",
    "\n",
    "ax2_low.set_ylabel('Distance to bus (m)', fontsize=14, color=faded_orange)\n",
    "ax2_high.set_ylabel('Distance to train (m)', fontsize=14, color=faded_green)\n",
    "plt.tight_layout()\n",
    "plt.show()\n"
   ]
  },
  {
   "cell_type": "code",
   "execution_count": 27,
   "id": "2b07b537-4202-4542-8315-9ef4ee34e159",
   "metadata": {},
   "outputs": [],
   "source": [
    "df.to_csv(\"moo2.csv\")"
   ]
  },
  {
   "cell_type": "code",
   "execution_count": 154,
   "id": "7bd6aff6-7340-4c4e-92fb-a2401dff4b3a",
   "metadata": {},
   "outputs": [
    {
     "data": {
      "image/png": "[encoded data removed]",
      "text/plain": [
       "<Figure size 900x600 with 2 Axes>"
      ]
     },
     "metadata": {},
     "output_type": "display_data"
    }
   ],
   "source": [
    "import matplotlib.pyplot as plt\n",
    "\n",
    "fig, (ax1, ax2) = plt.subplots(2, 1, sharex=True, figsize=(9, 6), gridspec_kw={'height_ratios': [1, 1]})\n",
    "fig.subplots_adjust(hspace=0.05)\n",
    "\n",
    "# Pareto front on both axes\n",
    "ax1.scatter(df['cost_emb'], df['cost_access'], color='blue', label='Pareto Front')\n",
    "ax2.scatter(df['cost_emb'], df['cost_access'], color='blue')\n",
    "\n",
    "# Train distance on upper (high range)\n",
    "ax1.plot(df['cost_emb'], df['cost_train_median'], color='green', linestyle='--', label='Train Distance')\n",
    "ax1.set_ylim(1500, 2700)\n",
    "\n",
    "# Bus distance on lower (low range)\n",
    "ax2.plot(df['cost_emb'], df['cost_bus_median'], color='orange', linestyle='-.', label='Bus Distance')\n",
    "ax2.set_ylim(100, 300)\n",
    "\n",
    "# Axis labels\n",
    "ax2.set_xlabel('Cost Emb')\n",
    "ax1.set_ylabel('Cost Transit / Train Dist')\n",
    "ax2.set_ylabel('Cost Transit / Bus Dist')\n",
    "\n",
    "# Hide spines\n",
    "ax1.spines.bottom.set_visible(False)\n",
    "ax2.spines.top.set_visible(False)\n",
    "ax1.tick_params(labeltop=False)\n",
    "ax2.xaxis.tick_bottom()\n",
    "ax1.xaxis.tick_top()\n",
    "\n",
    "# Break lines\n",
    "d = .5\n",
    "kwargs = dict(marker=[(-1, -d), (1, d)], markersize=12,\n",
    "              linestyle=\"none\", color='k', mec='k', mew=1, clip_on=False)\n",
    "ax1.plot([0, 1], [0, 0], transform=ax1.transAxes, **kwargs)\n",
    "ax2.plot([0, 1], [1, 1], transform=ax2.transAxes, **kwargs)\n",
    "\n",
    "# Legend\n",
    "lines, labels = ax1.get_legend_handles_labels()\n",
    "lines2, labels2 = ax2.get_legend_handles_labels()\n",
    "ax1.legend(lines + lines2, labels + labels2, loc='upper right')\n",
    "\n",
    "plt.suptitle(\"Cost Transit vs Embedding with Broken Distance Axis\")\n",
    "plt.tight_layout(rect=[0, 0, 1, 0.95])\n",
    "plt.show()\n"
   ]
  },
  {
   "cell_type": "code",
   "execution_count": 28,
   "id": "54f9ce60-b450-427b-b1b2-f4d15111b263",
   "metadata": {},
   "outputs": [],
   "source": [
    "with Path(\"moo2_pids.pkl\").open(\"wb\") as f:\n",
    "    pickle.dump(pid_saves, f)"
   ]
  },
  {
   "cell_type": "code",
   "execution_count": 29,
   "id": "f2ad7f87-2b8f-40f7-b8b7-f504de78af70",
   "metadata": {},
   "outputs": [],
   "source": [
    "with Path(\"moo2_pids.pkl\").open(\"rb\") as f:\n",
    "    test = pickle.load(f)"
   ]
  },
  {
   "cell_type": "code",
   "execution_count": null,
   "id": "39337e8d-18f4-40fe-ae4e-12e6f9c710fa",
   "metadata": {},
   "outputs": [],
   "source": []
  }
 ],
 "metadata": {
  "kernelspec": {
   "display_name": "Python 3 (ipykernel)",
   "language": "python",
   "name": "python3"
  },
  "language_info": {
   "codemirror_mode": {
    "name": "ipython",
    "version": 3
   },
   "file_extension": ".py",
   "mimetype": "text/x-python",
   "name": "python",
   "nbconvert_exporter": "python",
   "pygments_lexer": "ipython3",
   "version": "3.12.3"
  }
 },
 "nbformat": 4,
 "nbformat_minor": 5
}
